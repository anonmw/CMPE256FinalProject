{
 "cells": [
  {
   "cell_type": "markdown",
   "id": "059309fb",
   "metadata": {},
   "source": [
    "### Importing Libraries"
   ]
  },
  {
   "cell_type": "code",
   "execution_count": 95,
   "id": "521460fa",
   "metadata": {},
   "outputs": [],
   "source": [
    "import pandas as pd\n",
    "import numpy as np\n",
    "import networkx as nx\n",
    "\n",
    "from networkx import neighbors\n",
    "from networkx import common_neighbors\n",
    "\n",
    "from matplotlib.pyplot import figure\n",
    "\n",
    "from sklearn.model_selection import train_test_split\n",
    "\n",
    "from tqdm import tqdm"
   ]
  },
  {
   "cell_type": "markdown",
   "id": "5328af28",
   "metadata": {},
   "source": [
    "### Importing Dataset"
   ]
  },
  {
   "cell_type": "code",
   "execution_count": 96,
   "id": "8b874967",
   "metadata": {},
   "outputs": [
    {
     "data": {
      "text/html": [
       "<div>\n",
       "<style scoped>\n",
       "    .dataframe tbody tr th:only-of-type {\n",
       "        vertical-align: middle;\n",
       "    }\n",
       "\n",
       "    .dataframe tbody tr th {\n",
       "        vertical-align: top;\n",
       "    }\n",
       "\n",
       "    .dataframe thead th {\n",
       "        text-align: right;\n",
       "    }\n",
       "</style>\n",
       "<table border=\"1\" class=\"dataframe\">\n",
       "  <thead>\n",
       "    <tr style=\"text-align: right;\">\n",
       "      <th></th>\n",
       "      <th>SOURCE_SUBREDDIT</th>\n",
       "      <th>TARGET_SUBREDDIT</th>\n",
       "      <th>POST_ID</th>\n",
       "      <th>TIMESTAMP</th>\n",
       "      <th>LINK_SENTIMENT</th>\n",
       "      <th>PROPERTIES</th>\n",
       "    </tr>\n",
       "  </thead>\n",
       "  <tbody>\n",
       "    <tr>\n",
       "      <th>0</th>\n",
       "      <td>leagueoflegends</td>\n",
       "      <td>teamredditteams</td>\n",
       "      <td>1u4nrps</td>\n",
       "      <td>2013-12-31 16:39:58</td>\n",
       "      <td>1</td>\n",
       "      <td>345.0,298.0,0.75652173913,0.0173913043478,0.08...</td>\n",
       "    </tr>\n",
       "    <tr>\n",
       "      <th>1</th>\n",
       "      <td>theredlion</td>\n",
       "      <td>soccer</td>\n",
       "      <td>1u4qkd</td>\n",
       "      <td>2013-12-31 18:18:37</td>\n",
       "      <td>-1</td>\n",
       "      <td>101.0,98.0,0.742574257426,0.019801980198,0.049...</td>\n",
       "    </tr>\n",
       "    <tr>\n",
       "      <th>2</th>\n",
       "      <td>inlandempire</td>\n",
       "      <td>bikela</td>\n",
       "      <td>1u4qlzs</td>\n",
       "      <td>2014-01-01 14:54:35</td>\n",
       "      <td>1</td>\n",
       "      <td>85.0,85.0,0.752941176471,0.0235294117647,0.082...</td>\n",
       "    </tr>\n",
       "    <tr>\n",
       "      <th>3</th>\n",
       "      <td>nfl</td>\n",
       "      <td>cfb</td>\n",
       "      <td>1u4sjvs</td>\n",
       "      <td>2013-12-31 17:37:55</td>\n",
       "      <td>1</td>\n",
       "      <td>1124.0,949.0,0.772241992883,0.0017793594306,0....</td>\n",
       "    </tr>\n",
       "    <tr>\n",
       "      <th>4</th>\n",
       "      <td>playmygame</td>\n",
       "      <td>gamedev</td>\n",
       "      <td>1u4w5ss</td>\n",
       "      <td>2014-01-01 02:51:13</td>\n",
       "      <td>1</td>\n",
       "      <td>715.0,622.0,0.777622377622,0.00699300699301,0....</td>\n",
       "    </tr>\n",
       "    <tr>\n",
       "      <th>...</th>\n",
       "      <td>...</td>\n",
       "      <td>...</td>\n",
       "      <td>...</td>\n",
       "      <td>...</td>\n",
       "      <td>...</td>\n",
       "      <td>...</td>\n",
       "    </tr>\n",
       "    <tr>\n",
       "      <th>286556</th>\n",
       "      <td>negareddit</td>\n",
       "      <td>debatefascism</td>\n",
       "      <td>68im20s</td>\n",
       "      <td>2017-04-30 16:31:26</td>\n",
       "      <td>1</td>\n",
       "      <td>441.0,405.0,0.775510204082,0.0294784580499,0.0...</td>\n",
       "    </tr>\n",
       "    <tr>\n",
       "      <th>286557</th>\n",
       "      <td>mildlynomil</td>\n",
       "      <td>justnomil</td>\n",
       "      <td>68imlas</td>\n",
       "      <td>2017-04-30 04:19:03</td>\n",
       "      <td>1</td>\n",
       "      <td>2226.0,1855.0,0.786163522013,0.00224618149146,...</td>\n",
       "    </tr>\n",
       "    <tr>\n",
       "      <th>286558</th>\n",
       "      <td>mmorpg</td>\n",
       "      <td>blackdesertonline</td>\n",
       "      <td>68ip5os</td>\n",
       "      <td>2017-04-30 16:54:08</td>\n",
       "      <td>1</td>\n",
       "      <td>1100.0,909.0,0.778181818182,0.00181818181818,0...</td>\n",
       "    </tr>\n",
       "    <tr>\n",
       "      <th>286559</th>\n",
       "      <td>electricskateboards</td>\n",
       "      <td>askreddit</td>\n",
       "      <td>68ipb2s</td>\n",
       "      <td>2017-04-30 16:41:53</td>\n",
       "      <td>1</td>\n",
       "      <td>1876.0,1567.0,0.78144989339,0.00692963752665,0...</td>\n",
       "    </tr>\n",
       "    <tr>\n",
       "      <th>286560</th>\n",
       "      <td>mgtow</td>\n",
       "      <td>dataisbeautiful</td>\n",
       "      <td>68ipeos</td>\n",
       "      <td>2017-04-30 16:52:59</td>\n",
       "      <td>1</td>\n",
       "      <td>1129.0,975.0,0.795394154119,0.0150575730735,0....</td>\n",
       "    </tr>\n",
       "  </tbody>\n",
       "</table>\n",
       "<p>286561 rows × 6 columns</p>\n",
       "</div>"
      ],
      "text/plain": [
       "           SOURCE_SUBREDDIT   TARGET_SUBREDDIT  POST_ID            TIMESTAMP  \\\n",
       "0           leagueoflegends    teamredditteams  1u4nrps  2013-12-31 16:39:58   \n",
       "1                theredlion             soccer   1u4qkd  2013-12-31 18:18:37   \n",
       "2              inlandempire             bikela  1u4qlzs  2014-01-01 14:54:35   \n",
       "3                       nfl                cfb  1u4sjvs  2013-12-31 17:37:55   \n",
       "4                playmygame            gamedev  1u4w5ss  2014-01-01 02:51:13   \n",
       "...                     ...                ...      ...                  ...   \n",
       "286556           negareddit      debatefascism  68im20s  2017-04-30 16:31:26   \n",
       "286557          mildlynomil          justnomil  68imlas  2017-04-30 04:19:03   \n",
       "286558               mmorpg  blackdesertonline  68ip5os  2017-04-30 16:54:08   \n",
       "286559  electricskateboards          askreddit  68ipb2s  2017-04-30 16:41:53   \n",
       "286560                mgtow    dataisbeautiful  68ipeos  2017-04-30 16:52:59   \n",
       "\n",
       "        LINK_SENTIMENT                                         PROPERTIES  \n",
       "0                    1  345.0,298.0,0.75652173913,0.0173913043478,0.08...  \n",
       "1                   -1  101.0,98.0,0.742574257426,0.019801980198,0.049...  \n",
       "2                    1  85.0,85.0,0.752941176471,0.0235294117647,0.082...  \n",
       "3                    1  1124.0,949.0,0.772241992883,0.0017793594306,0....  \n",
       "4                    1  715.0,622.0,0.777622377622,0.00699300699301,0....  \n",
       "...                ...                                                ...  \n",
       "286556               1  441.0,405.0,0.775510204082,0.0294784580499,0.0...  \n",
       "286557               1  2226.0,1855.0,0.786163522013,0.00224618149146,...  \n",
       "286558               1  1100.0,909.0,0.778181818182,0.00181818181818,0...  \n",
       "286559               1  1876.0,1567.0,0.78144989339,0.00692963752665,0...  \n",
       "286560               1  1129.0,975.0,0.795394154119,0.0150575730735,0....  \n",
       "\n",
       "[286561 rows x 6 columns]"
      ]
     },
     "execution_count": 96,
     "metadata": {},
     "output_type": "execute_result"
    }
   ],
   "source": [
    "df = pd.read_csv(\"data.tsv\", sep=\"\\t\")\n",
    "df"
   ]
  },
  {
   "cell_type": "markdown",
   "id": "4942ee3c",
   "metadata": {},
   "source": [
    "### Creating the network structure"
   ]
  },
  {
   "cell_type": "code",
   "execution_count": 97,
   "id": "bd28e71a",
   "metadata": {},
   "outputs": [],
   "source": [
    "G = nx.Graph()\n",
    "G = nx.from_pandas_edgelist(df, 'SOURCE_SUBREDDIT', 'TARGET_SUBREDDIT', edge_attr='LINK_SENTIMENT')"
   ]
  },
  {
   "cell_type": "markdown",
   "id": "80fdb3d5",
   "metadata": {},
   "source": [
    "### Data Statistics"
   ]
  },
  {
   "cell_type": "code",
   "execution_count": 116,
   "id": "9013579a",
   "metadata": {},
   "outputs": [],
   "source": [
    "leaderboard = {}\n",
    "for x in G.nodes:\n",
    " leaderboard[x] = len(G[x])\n",
    "s = pd.Series(leaderboard, name='connections')\n",
    "df_leaderboard = s.to_frame().sort_values('connections', ascending=False)"
   ]
  },
  {
   "cell_type": "code",
   "execution_count": 117,
   "id": "7a63e75b",
   "metadata": {},
   "outputs": [
    {
     "data": {
      "text/html": [
       "<div>\n",
       "<style scoped>\n",
       "    .dataframe tbody tr th:only-of-type {\n",
       "        vertical-align: middle;\n",
       "    }\n",
       "\n",
       "    .dataframe tbody tr th {\n",
       "        vertical-align: top;\n",
       "    }\n",
       "\n",
       "    .dataframe thead th {\n",
       "        text-align: right;\n",
       "    }\n",
       "</style>\n",
       "<table border=\"1\" class=\"dataframe\">\n",
       "  <thead>\n",
       "    <tr style=\"text-align: right;\">\n",
       "      <th></th>\n",
       "      <th>connections</th>\n",
       "    </tr>\n",
       "  </thead>\n",
       "  <tbody>\n",
       "    <tr>\n",
       "      <th>askreddit</th>\n",
       "      <td>2336</td>\n",
       "    </tr>\n",
       "    <tr>\n",
       "      <th>iama</th>\n",
       "      <td>1839</td>\n",
       "    </tr>\n",
       "    <tr>\n",
       "      <th>subredditdrama</th>\n",
       "      <td>1598</td>\n",
       "    </tr>\n",
       "    <tr>\n",
       "      <th>writingprompts</th>\n",
       "      <td>1043</td>\n",
       "    </tr>\n",
       "    <tr>\n",
       "      <th>outoftheloop</th>\n",
       "      <td>986</td>\n",
       "    </tr>\n",
       "    <tr>\n",
       "      <th>...</th>\n",
       "      <td>...</td>\n",
       "    </tr>\n",
       "    <tr>\n",
       "      <th>onetruekongou</th>\n",
       "      <td>1</td>\n",
       "    </tr>\n",
       "    <tr>\n",
       "      <th>csfragfilms</th>\n",
       "      <td>1</td>\n",
       "    </tr>\n",
       "    <tr>\n",
       "      <th>debatereligioncss</th>\n",
       "      <td>1</td>\n",
       "    </tr>\n",
       "    <tr>\n",
       "      <th>gunnitrust</th>\n",
       "      <td>1</td>\n",
       "    </tr>\n",
       "    <tr>\n",
       "      <th>ouija_irl</th>\n",
       "      <td>1</td>\n",
       "    </tr>\n",
       "  </tbody>\n",
       "</table>\n",
       "<p>35776 rows × 1 columns</p>\n",
       "</div>"
      ],
      "text/plain": [
       "                   connections\n",
       "askreddit                 2336\n",
       "iama                      1839\n",
       "subredditdrama            1598\n",
       "writingprompts            1043\n",
       "outoftheloop               986\n",
       "...                        ...\n",
       "onetruekongou                1\n",
       "csfragfilms                  1\n",
       "debatereligioncss            1\n",
       "gunnitrust                   1\n",
       "ouija_irl                    1\n",
       "\n",
       "[35776 rows x 1 columns]"
      ]
     },
     "execution_count": 117,
     "metadata": {},
     "output_type": "execute_result"
    }
   ],
   "source": [
    "df_leaderboard"
   ]
  },
  {
   "cell_type": "code",
   "execution_count": 118,
   "id": "d3693dfa",
   "metadata": {},
   "outputs": [
    {
     "name": "stdout",
     "output_type": "stream",
     "text": [
      "The average number of connections of a node are 6.950469588550984\n"
     ]
    }
   ],
   "source": [
    "avg = df_leaderboard[\"connections\"].mean()\n",
    "print(\"The average number of connections of a node are \" + str(avg))"
   ]
  },
  {
   "cell_type": "code",
   "execution_count": 119,
   "id": "a4391fab",
   "metadata": {},
   "outputs": [
    {
     "name": "stdout",
     "output_type": "stream",
     "text": [
      "The number of unique subreddits are 259092\n"
     ]
    }
   ],
   "source": [
    "unique_links = df[\"POST_ID\"].nunique()\n",
    "print(\"The number of unique subreddits are \" + str(unique_links))"
   ]
  },
  {
   "cell_type": "markdown",
   "id": "469b1cfb",
   "metadata": {},
   "source": [
    "#### Make a dictionary for neighbors of nodes"
   ]
  },
  {
   "cell_type": "code",
   "execution_count": 120,
   "id": "902e890c",
   "metadata": {},
   "outputs": [],
   "source": [
    "def add_values_in_dict(given_dict, key, list_of_values):\n",
    "    if key not in given_dict:\n",
    "        given_dict[key] = list()\n",
    "    given_dict[key].extend(list_of_values)\n",
    "    return"
   ]
  },
  {
   "cell_type": "code",
   "execution_count": 121,
   "id": "65a4f6cb",
   "metadata": {},
   "outputs": [],
   "source": [
    "edge_list = {}\n",
    "for x in G.nodes:\n",
    "    temp_neighbour = [n for n in G.neighbors(x)]\n",
    "    add_values_in_dict(edge_list, x, temp_neighbour)"
   ]
  },
  {
   "cell_type": "markdown",
   "id": "5092cf9e",
   "metadata": {},
   "source": [
    "### Preprocessing\n",
    "#### Splitting the data into train data and test data"
   ]
  },
  {
   "cell_type": "code",
   "execution_count": 122,
   "id": "7e3cc375",
   "metadata": {},
   "outputs": [],
   "source": [
    "train, test = train_test_split(df, test_size=0.2)"
   ]
  },
  {
   "cell_type": "code",
   "execution_count": 123,
   "id": "5e42ce3d",
   "metadata": {},
   "outputs": [],
   "source": [
    "train_G = nx.Graph()\n",
    "train_G = nx.from_pandas_edgelist(train, 'SOURCE_SUBREDDIT', 'TARGET_SUBREDDIT', edge_attr='LINK_SENTIMENT')\n",
    "test_G = nx.Graph()\n",
    "test_G = nx.from_pandas_edgelist(test, 'SOURCE_SUBREDDIT', 'TARGET_SUBREDDIT', edge_attr='LINK_SENTIMENT')"
   ]
  },
  {
   "cell_type": "markdown",
   "id": "8de05ce3",
   "metadata": {},
   "source": [
    "#### Algorithm for link prediction"
   ]
  },
  {
   "cell_type": "code",
   "execution_count": 124,
   "id": "91764f02",
   "metadata": {},
   "outputs": [],
   "source": [
    "def link_pred_cn(G, m):\n",
    "    new_edges = []\n",
    "    e = list(G.edges())\n",
    "    for i in tqdm(e):\n",
    "        a, b = i\n",
    "        if(G.get_edge_data(a, b)['LINK_SENTIMENT']==m):\n",
    "            for j in e:\n",
    "                x, y = j\n",
    "                if(G.get_edge_data(x, y)['LINK_SENTIMENT']==m):\n",
    "                    if i != j:\n",
    "                        if a == x and (b, y) not in e and (y, b) not in e:\n",
    "                            if(len(sorted(nx.common_neighbors(G, y, b)))>=30):\n",
    "                                new_edges.append((b, y))\n",
    "                        if a == y and (b, x) not in e and (x, b) not in e:\n",
    "                            if(len(sorted(nx.common_neighbors(G, x, b)))>=30):\n",
    "                                new_edges.append((b, x))\n",
    "                        if b == x and (a, y) not in e and (y, a) not in e:\n",
    "                            if(len(sorted(nx.common_neighbors(G, y, a)))>=30):\n",
    "                                new_edges.append((a, y))\n",
    "                        if b == y and (a, x) not in e and (x, a) not in e:\n",
    "                            if(len(sorted(nx.common_neighbors(G, x, a)))>=30):\n",
    "                                new_edges.append((a, x))\n",
    "    return new_edges"
   ]
  },
  {
   "cell_type": "markdown",
   "id": "8ba2b8b2",
   "metadata": {},
   "source": [
    "### Making Predictions"
   ]
  },
  {
   "cell_type": "code",
   "execution_count": null,
   "id": "6cccb1f3",
   "metadata": {},
   "outputs": [
    {
     "name": "stderr",
     "output_type": "stream",
     "text": [
      "  0%|          | 182/105470 [02:51<34:24:21,  1.18s/it]"
     ]
    }
   ],
   "source": [
    "pred_pos_edges = link_pred_cn(train_G, 1)"
   ]
  },
  {
   "cell_type": "code",
   "execution_count": null,
   "id": "cf9b0871",
   "metadata": {},
   "outputs": [],
   "source": [
    "pred_neg_edges = link_pred_cn(train_G, -1)"
   ]
  },
  {
   "cell_type": "code",
   "execution_count": 125,
   "id": "991a80eb",
   "metadata": {},
   "outputs": [
    {
     "name": "stderr",
     "output_type": "stream",
     "text": [
      "100%|██████████| 36191/36191 [00:00<00:00, 696008.88it/s]\n"
     ]
    }
   ],
   "source": [
    "test_edges = list(test_G.edges())\n",
    "test_pos_edges = []\n",
    "test_neg_edges = []\n",
    "for i in tqdm(test_edges):\n",
    "    x, y = i\n",
    "    if(G.get_edge_data(x, y)['LINK_SENTIMENT']==1):\n",
    "        test_pos_edges.append((x, y))\n",
    "    if(G.get_edge_data(x, y)['LINK_SENTIMENT']==-1):\n",
    "        test_pos_edges.append((x, y))"
   ]
  },
  {
   "cell_type": "markdown",
   "id": "fbe4cb8b",
   "metadata": {},
   "source": [
    "### Finding accuracy for the algorithm"
   ]
  },
  {
   "cell_type": "code",
   "execution_count": 126,
   "id": "42e99cc0",
   "metadata": {},
   "outputs": [],
   "source": [
    "def pos_count(e):\n",
    "    tp = 0\n",
    "    fp = 0\n",
    "    for i in tqdm(e):\n",
    "        x, y = i\n",
    "        for j in test_pos_edges:\n",
    "            a, b = j\n",
    "            if (a == x and b == y) or (a == y and b == x):\n",
    "                tp = tp + 1\n",
    "            else:\n",
    "                fp = fp + 1\n",
    "    return tp, fp"
   ]
  },
  {
   "cell_type": "code",
   "execution_count": 127,
   "id": "16773fbc",
   "metadata": {},
   "outputs": [],
   "source": [
    "def neg_count(e):\n",
    "    tn = 0\n",
    "    fn = 0\n",
    "    for i in tqdm(e):\n",
    "        x, y = i\n",
    "        for j in test_neg_edges:\n",
    "            a, b = j\n",
    "            if (a == x and b == y) or (a == y and b == x):\n",
    "                tn = tn + 1\n",
    "            else:\n",
    "                fn = fn + 1\n",
    "    return tn, fn"
   ]
  },
  {
   "cell_type": "code",
   "execution_count": 128,
   "id": "4ea8f05a",
   "metadata": {},
   "outputs": [
    {
     "name": "stderr",
     "output_type": "stream",
     "text": [
      "100%|██████████| 11848/11848 [00:36<00:00, 321.49it/s]\n",
      "100%|██████████| 168/168 [00:00<00:00, 1334551.27it/s]"
     ]
    },
    {
     "name": "stdout",
     "output_type": "stream",
     "text": [
      "The accuracy of the preiction algorithm is 8.279092296552291e-06\n"
     ]
    },
    {
     "name": "stderr",
     "output_type": "stream",
     "text": [
      "\n"
     ]
    }
   ],
   "source": [
    "positive_class = pos_count(pred_pos_edges)\n",
    "negative_class = neg_count(pred_neg_edges)\n",
    "accuracy = (positive_class[0]+negative_class[0])/(positive_class[0]+negative_class[0]+positive_class[1]+negative_class[1])\n",
    "print(\"The accuracy of the preiction algorithm is \" + str(accuracy))"
   ]
  }
 ],
 "metadata": {
  "kernelspec": {
   "display_name": "Python 3",
   "language": "python",
   "name": "python3"
  },
  "language_info": {
   "codemirror_mode": {
    "name": "ipython",
    "version": 3
   },
   "file_extension": ".py",
   "mimetype": "text/x-python",
   "name": "python",
   "nbconvert_exporter": "python",
   "pygments_lexer": "ipython3",
   "version": "3.8.8"
  }
 },
 "nbformat": 4,
 "nbformat_minor": 5
}
