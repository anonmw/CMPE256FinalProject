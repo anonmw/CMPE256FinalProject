{
  "nbformat": 4,
  "nbformat_minor": 0,
  "metadata": {
    "colab": {
      "name": "CMPE256_FinalProject_CosineSimilarity.ipynb",
      "provenance": [],
      "collapsed_sections": []
    },
    "kernelspec": {
      "name": "python3",
      "display_name": "Python 3"
    },
    "language_info": {
      "name": "python"
    }
  },
  "cells": [
    {
      "cell_type": "markdown",
      "metadata": {
        "id": "RkSuKN3Mw7jr"
      },
      "source": [
        "# Imports"
      ]
    },
    {
      "cell_type": "code",
      "metadata": {
        "colab": {
          "base_uri": "https://localhost:8080/"
        },
        "id": "XsVM9ivjhNMP",
        "outputId": "75a05a3e-3de6-43cd-e9a4-c9cf358ef5b3"
      },
      "source": [
        "from google.colab import drive\n",
        "drive.mount('/content/drive')"
      ],
      "execution_count": 143,
      "outputs": [
        {
          "output_type": "stream",
          "name": "stdout",
          "text": [
            "Drive already mounted at /content/drive; to attempt to forcibly remount, call drive.mount(\"/content/drive\", force_remount=True).\n"
          ]
        }
      ]
    },
    {
      "cell_type": "code",
      "metadata": {
        "id": "Z7iDSZ3CFNCc"
      },
      "source": [
        "import pandas as pd\n",
        "import numpy as np\n",
        "import os"
      ],
      "execution_count": 144,
      "outputs": []
    },
    {
      "cell_type": "code",
      "metadata": {
        "colab": {
          "base_uri": "https://localhost:8080/"
        },
        "id": "77pJVOGfFOOM",
        "outputId": "8ad0baa4-c77e-4c7b-9f93-b69e6162eddf"
      },
      "source": [
        "os.chdir('/content/drive/My Drive/CMPE256/Final_Project')\n",
        "!ls"
      ],
      "execution_count": 145,
      "outputs": [
        {
          "output_type": "stream",
          "name": "stdout",
          "text": [
            "soc-redditHyperlinks-body.tsv  soc-redditHyperlinks-title.tsv\n"
          ]
        }
      ]
    },
    {
      "cell_type": "markdown",
      "metadata": {
        "id": "KdkiaW_Tw_kh"
      },
      "source": [
        "# Data Exploration and Preprocessing"
      ]
    },
    {
      "cell_type": "code",
      "metadata": {
        "id": "XiN3WSgtFZ2i"
      },
      "source": [
        "title_data = pd.read_csv('soc-redditHyperlinks-title.tsv', sep = '\\t')\n",
        "body_data = pd.read_csv('soc-redditHyperlinks-body.tsv', sep='\\t')"
      ],
      "execution_count": 146,
      "outputs": []
    },
    {
      "cell_type": "code",
      "metadata": {
        "colab": {
          "base_uri": "https://localhost:8080/",
          "height": 424
        },
        "id": "SJ1QhYxnGTGh",
        "outputId": "fc5f8829-d52b-455b-ca8c-0c8f83bd6b4b"
      },
      "source": [
        "title_data"
      ],
      "execution_count": 147,
      "outputs": [
        {
          "output_type": "execute_result",
          "data": {
            "text/html": [
              "<div>\n",
              "<style scoped>\n",
              "    .dataframe tbody tr th:only-of-type {\n",
              "        vertical-align: middle;\n",
              "    }\n",
              "\n",
              "    .dataframe tbody tr th {\n",
              "        vertical-align: top;\n",
              "    }\n",
              "\n",
              "    .dataframe thead th {\n",
              "        text-align: right;\n",
              "    }\n",
              "</style>\n",
              "<table border=\"1\" class=\"dataframe\">\n",
              "  <thead>\n",
              "    <tr style=\"text-align: right;\">\n",
              "      <th></th>\n",
              "      <th>SOURCE_SUBREDDIT</th>\n",
              "      <th>TARGET_SUBREDDIT</th>\n",
              "      <th>POST_ID</th>\n",
              "      <th>TIMESTAMP</th>\n",
              "      <th>LINK_SENTIMENT</th>\n",
              "      <th>PROPERTIES</th>\n",
              "    </tr>\n",
              "  </thead>\n",
              "  <tbody>\n",
              "    <tr>\n",
              "      <th>0</th>\n",
              "      <td>rddtgaming</td>\n",
              "      <td>rddtrust</td>\n",
              "      <td>1u4pzzs</td>\n",
              "      <td>2013-12-31 16:39:18</td>\n",
              "      <td>1</td>\n",
              "      <td>25.0,23.0,0.76,0.0,0.44,0.12,0.12,4.0,4.0,0.0,...</td>\n",
              "    </tr>\n",
              "    <tr>\n",
              "      <th>1</th>\n",
              "      <td>xboxone</td>\n",
              "      <td>battlefield_4</td>\n",
              "      <td>1u4tmfs</td>\n",
              "      <td>2013-12-31 17:59:11</td>\n",
              "      <td>1</td>\n",
              "      <td>100.0,88.0,0.78,0.02,0.08,0.13,0.07,16.0,16.0,...</td>\n",
              "    </tr>\n",
              "    <tr>\n",
              "      <th>2</th>\n",
              "      <td>ps4</td>\n",
              "      <td>battlefield_4</td>\n",
              "      <td>1u4tmos</td>\n",
              "      <td>2013-12-31 17:59:40</td>\n",
              "      <td>1</td>\n",
              "      <td>100.0,88.0,0.78,0.02,0.08,0.13,0.07,16.0,16.0,...</td>\n",
              "    </tr>\n",
              "    <tr>\n",
              "      <th>3</th>\n",
              "      <td>fitnesscirclejerk</td>\n",
              "      <td>leangains</td>\n",
              "      <td>1u50xfs</td>\n",
              "      <td>2013-12-31 19:01:56</td>\n",
              "      <td>1</td>\n",
              "      <td>49.0,43.0,0.775510204082,0.0,0.265306122449,0....</td>\n",
              "    </tr>\n",
              "    <tr>\n",
              "      <th>4</th>\n",
              "      <td>fitnesscirclejerk</td>\n",
              "      <td>lifeprotips</td>\n",
              "      <td>1u51nps</td>\n",
              "      <td>2013-12-31 21:02:28</td>\n",
              "      <td>1</td>\n",
              "      <td>14.0,14.0,0.785714285714,0.0,0.428571428571,0....</td>\n",
              "    </tr>\n",
              "    <tr>\n",
              "      <th>...</th>\n",
              "      <td>...</td>\n",
              "      <td>...</td>\n",
              "      <td>...</td>\n",
              "      <td>...</td>\n",
              "      <td>...</td>\n",
              "      <td>...</td>\n",
              "    </tr>\n",
              "    <tr>\n",
              "      <th>571922</th>\n",
              "      <td>seattleshitshow</td>\n",
              "      <td>seattlewa</td>\n",
              "      <td>68iptp</td>\n",
              "      <td>2017-04-27 11:07:31</td>\n",
              "      <td>-1</td>\n",
              "      <td>83.0,70.0,0.78313253012,0.0,0.10843373494,0.16...</td>\n",
              "    </tr>\n",
              "    <tr>\n",
              "      <th>571923</th>\n",
              "      <td>peoplewhosayheck</td>\n",
              "      <td>spiderman</td>\n",
              "      <td>68iqh6s</td>\n",
              "      <td>2017-04-30 16:36:07</td>\n",
              "      <td>1</td>\n",
              "      <td>121.0,105.0,0.719008264463,0.0165289256198,0.0...</td>\n",
              "    </tr>\n",
              "    <tr>\n",
              "      <th>571924</th>\n",
              "      <td>vzla</td>\n",
              "      <td>wtf</td>\n",
              "      <td>68iqkcs</td>\n",
              "      <td>2017-04-30 15:50:07</td>\n",
              "      <td>1</td>\n",
              "      <td>68.0,58.0,0.764705882353,0.0,0.147058823529,0....</td>\n",
              "    </tr>\n",
              "    <tr>\n",
              "      <th>571925</th>\n",
              "      <td>denverbroncos</td>\n",
              "      <td>nfl</td>\n",
              "      <td>68iqt8</td>\n",
              "      <td>2017-04-30 16:11:30</td>\n",
              "      <td>-1</td>\n",
              "      <td>96.0,79.0,0.770833333333,0.0,0.0729166666667,0...</td>\n",
              "    </tr>\n",
              "    <tr>\n",
              "      <th>571926</th>\n",
              "      <td>shitpoliticssays</td>\n",
              "      <td>politicaldiscussion</td>\n",
              "      <td>68ir4os</td>\n",
              "      <td>2017-04-30 15:14:05</td>\n",
              "      <td>1</td>\n",
              "      <td>140.0,122.0,0.8,0.0,0.114285714286,0.135714285...</td>\n",
              "    </tr>\n",
              "  </tbody>\n",
              "</table>\n",
              "<p>571927 rows × 6 columns</p>\n",
              "</div>"
            ],
            "text/plain": [
              "         SOURCE_SUBREDDIT  ...                                         PROPERTIES\n",
              "0              rddtgaming  ...  25.0,23.0,0.76,0.0,0.44,0.12,0.12,4.0,4.0,0.0,...\n",
              "1                 xboxone  ...  100.0,88.0,0.78,0.02,0.08,0.13,0.07,16.0,16.0,...\n",
              "2                     ps4  ...  100.0,88.0,0.78,0.02,0.08,0.13,0.07,16.0,16.0,...\n",
              "3       fitnesscirclejerk  ...  49.0,43.0,0.775510204082,0.0,0.265306122449,0....\n",
              "4       fitnesscirclejerk  ...  14.0,14.0,0.785714285714,0.0,0.428571428571,0....\n",
              "...                   ...  ...                                                ...\n",
              "571922    seattleshitshow  ...  83.0,70.0,0.78313253012,0.0,0.10843373494,0.16...\n",
              "571923   peoplewhosayheck  ...  121.0,105.0,0.719008264463,0.0165289256198,0.0...\n",
              "571924               vzla  ...  68.0,58.0,0.764705882353,0.0,0.147058823529,0....\n",
              "571925      denverbroncos  ...  96.0,79.0,0.770833333333,0.0,0.0729166666667,0...\n",
              "571926   shitpoliticssays  ...  140.0,122.0,0.8,0.0,0.114285714286,0.135714285...\n",
              "\n",
              "[571927 rows x 6 columns]"
            ]
          },
          "metadata": {},
          "execution_count": 147
        }
      ]
    },
    {
      "cell_type": "code",
      "metadata": {
        "colab": {
          "base_uri": "https://localhost:8080/",
          "height": 677
        },
        "id": "SOOTWPLXHeZg",
        "outputId": "56b1930c-1863-4b35-b383-99acf89961b4"
      },
      "source": [
        "temp = title_data[title_data['SOURCE_SUBREDDIT'] == 'ps4']\n",
        "temp[temp['TARGET_SUBREDDIT'] == 'xboxone']"
      ],
      "execution_count": 148,
      "outputs": [
        {
          "output_type": "execute_result",
          "data": {
            "text/html": [
              "<div>\n",
              "<style scoped>\n",
              "    .dataframe tbody tr th:only-of-type {\n",
              "        vertical-align: middle;\n",
              "    }\n",
              "\n",
              "    .dataframe tbody tr th {\n",
              "        vertical-align: top;\n",
              "    }\n",
              "\n",
              "    .dataframe thead th {\n",
              "        text-align: right;\n",
              "    }\n",
              "</style>\n",
              "<table border=\"1\" class=\"dataframe\">\n",
              "  <thead>\n",
              "    <tr style=\"text-align: right;\">\n",
              "      <th></th>\n",
              "      <th>SOURCE_SUBREDDIT</th>\n",
              "      <th>TARGET_SUBREDDIT</th>\n",
              "      <th>POST_ID</th>\n",
              "      <th>TIMESTAMP</th>\n",
              "      <th>LINK_SENTIMENT</th>\n",
              "      <th>PROPERTIES</th>\n",
              "    </tr>\n",
              "  </thead>\n",
              "  <tbody>\n",
              "    <tr>\n",
              "      <th>8107</th>\n",
              "      <td>ps4</td>\n",
              "      <td>xboxone</td>\n",
              "      <td>1wdqiws</td>\n",
              "      <td>2014-01-28 08:52:51</td>\n",
              "      <td>1</td>\n",
              "      <td>86.0,74.0,0.790697674419,0.0116279069767,0.255...</td>\n",
              "    </tr>\n",
              "    <tr>\n",
              "      <th>11412</th>\n",
              "      <td>ps4</td>\n",
              "      <td>xboxone</td>\n",
              "      <td>1xasy0s</td>\n",
              "      <td>2014-02-07 12:28:25</td>\n",
              "      <td>1</td>\n",
              "      <td>29.0,26.0,0.827586206897,0.0,0.206896551724,0....</td>\n",
              "    </tr>\n",
              "    <tr>\n",
              "      <th>12962</th>\n",
              "      <td>ps4</td>\n",
              "      <td>xboxone</td>\n",
              "      <td>1xqj3vs</td>\n",
              "      <td>2014-02-12 12:20:51</td>\n",
              "      <td>1</td>\n",
              "      <td>85.0,73.0,0.8,0.0,0.0941176470588,0.1529411764...</td>\n",
              "    </tr>\n",
              "    <tr>\n",
              "      <th>50536</th>\n",
              "      <td>ps4</td>\n",
              "      <td>xboxone</td>\n",
              "      <td>279mgzs</td>\n",
              "      <td>2014-06-03 22:38:39</td>\n",
              "      <td>1</td>\n",
              "      <td>108.0,94.0,0.768518518519,0.0,0.101851851852,0...</td>\n",
              "    </tr>\n",
              "    <tr>\n",
              "      <th>68551</th>\n",
              "      <td>ps4</td>\n",
              "      <td>xboxone</td>\n",
              "      <td>2bncsns</td>\n",
              "      <td>2014-07-24 18:40:41</td>\n",
              "      <td>1</td>\n",
              "      <td>57.0,48.0,0.771929824561,0.0175438596491,0.192...</td>\n",
              "    </tr>\n",
              "    <tr>\n",
              "      <th>79663</th>\n",
              "      <td>ps4</td>\n",
              "      <td>xboxone</td>\n",
              "      <td>2eeq5ns</td>\n",
              "      <td>2014-08-23 19:01:17</td>\n",
              "      <td>1</td>\n",
              "      <td>90.0,78.0,0.822222222222,0.0,0.233333333333,0....</td>\n",
              "    </tr>\n",
              "    <tr>\n",
              "      <th>80151</th>\n",
              "      <td>ps4</td>\n",
              "      <td>xboxone</td>\n",
              "      <td>2ej7vns</td>\n",
              "      <td>2014-08-25 08:48:51</td>\n",
              "      <td>1</td>\n",
              "      <td>104.0,92.0,0.788461538462,0.0,0.125,0.125,0.08...</td>\n",
              "    </tr>\n",
              "    <tr>\n",
              "      <th>99498</th>\n",
              "      <td>ps4</td>\n",
              "      <td>xboxone</td>\n",
              "      <td>2jdd8qs</td>\n",
              "      <td>2014-10-15 18:15:44</td>\n",
              "      <td>1</td>\n",
              "      <td>139.0,116.0,0.784172661871,0.0,0.107913669065,...</td>\n",
              "    </tr>\n",
              "    <tr>\n",
              "      <th>119479</th>\n",
              "      <td>ps4</td>\n",
              "      <td>xboxone</td>\n",
              "      <td>2olpaxs</td>\n",
              "      <td>2014-12-07 17:35:06</td>\n",
              "      <td>1</td>\n",
              "      <td>122.0,105.0,0.795081967213,0.0,0.0901639344262...</td>\n",
              "    </tr>\n",
              "    <tr>\n",
              "      <th>141629</th>\n",
              "      <td>ps4</td>\n",
              "      <td>xboxone</td>\n",
              "      <td>2ul0i9s</td>\n",
              "      <td>2015-02-02 17:05:29</td>\n",
              "      <td>1</td>\n",
              "      <td>43.0,38.0,0.790697674419,0.0,0.139534883721,0....</td>\n",
              "    </tr>\n",
              "    <tr>\n",
              "      <th>195032</th>\n",
              "      <td>ps4</td>\n",
              "      <td>xboxone</td>\n",
              "      <td>37y2o6s</td>\n",
              "      <td>2015-05-31 04:43:38</td>\n",
              "      <td>1</td>\n",
              "      <td>65.0,57.0,0.8,0.0153846153846,0.123076923077,0...</td>\n",
              "    </tr>\n",
              "    <tr>\n",
              "      <th>215495</th>\n",
              "      <td>ps4</td>\n",
              "      <td>xboxone</td>\n",
              "      <td>3cy12as</td>\n",
              "      <td>2015-07-11 14:15:08</td>\n",
              "      <td>1</td>\n",
              "      <td>101.0,87.0,0.80198019802,0.0,0.108910891089,0....</td>\n",
              "    </tr>\n",
              "    <tr>\n",
              "      <th>216484</th>\n",
              "      <td>ps4</td>\n",
              "      <td>xboxone</td>\n",
              "      <td>3d63fjs</td>\n",
              "      <td>2015-07-13 14:33:47</td>\n",
              "      <td>1</td>\n",
              "      <td>112.0,98.0,0.830357142857,0.0,0.0982142857143,...</td>\n",
              "    </tr>\n",
              "    <tr>\n",
              "      <th>248119</th>\n",
              "      <td>ps4</td>\n",
              "      <td>xboxone</td>\n",
              "      <td>3klau8s</td>\n",
              "      <td>2015-09-11 22:12:05</td>\n",
              "      <td>1</td>\n",
              "      <td>86.0,70.0,0.779069767442,0.0,0.162790697674,0....</td>\n",
              "    </tr>\n",
              "    <tr>\n",
              "      <th>263640</th>\n",
              "      <td>ps4</td>\n",
              "      <td>xboxone</td>\n",
              "      <td>3olr1rs</td>\n",
              "      <td>2015-10-13 17:28:34</td>\n",
              "      <td>1</td>\n",
              "      <td>81.0,68.0,0.765432098765,0.0123456790123,0.135...</td>\n",
              "    </tr>\n",
              "    <tr>\n",
              "      <th>398363</th>\n",
              "      <td>ps4</td>\n",
              "      <td>xboxone</td>\n",
              "      <td>4rblp1s</td>\n",
              "      <td>2016-07-05 00:46:49</td>\n",
              "      <td>1</td>\n",
              "      <td>99.0,87.0,0.737373737374,0.030303030303,0.1515...</td>\n",
              "    </tr>\n",
              "    <tr>\n",
              "      <th>400231</th>\n",
              "      <td>ps4</td>\n",
              "      <td>xboxone</td>\n",
              "      <td>4rw7qos</td>\n",
              "      <td>2016-07-08 11:40:35</td>\n",
              "      <td>1</td>\n",
              "      <td>53.0,46.0,0.792452830189,0.0188679245283,0.264...</td>\n",
              "    </tr>\n",
              "    <tr>\n",
              "      <th>441534</th>\n",
              "      <td>ps4</td>\n",
              "      <td>xboxone</td>\n",
              "      <td>548jiss</td>\n",
              "      <td>2016-09-23 20:29:25</td>\n",
              "      <td>1</td>\n",
              "      <td>25.0,24.0,0.72,0.0,0.24,0.08,0.2,5.0,5.0,1.0,3...</td>\n",
              "    </tr>\n",
              "    <tr>\n",
              "      <th>452296</th>\n",
              "      <td>ps4</td>\n",
              "      <td>xboxone</td>\n",
              "      <td>57c6oks</td>\n",
              "      <td>2016-10-13 12:37:52</td>\n",
              "      <td>1</td>\n",
              "      <td>50.0,43.0,0.82,0.0,0.28,0.16,0.02,9.0,9.0,2.0,...</td>\n",
              "    </tr>\n",
              "    <tr>\n",
              "      <th>524518</th>\n",
              "      <td>ps4</td>\n",
              "      <td>xboxone</td>\n",
              "      <td>5u4l8ns</td>\n",
              "      <td>2017-02-14 17:42:55</td>\n",
              "      <td>1</td>\n",
              "      <td>38.0,34.0,0.815789473684,0.0,0.157894736842,0....</td>\n",
              "    </tr>\n",
              "  </tbody>\n",
              "</table>\n",
              "</div>"
            ],
            "text/plain": [
              "       SOURCE_SUBREDDIT  ...                                         PROPERTIES\n",
              "8107                ps4  ...  86.0,74.0,0.790697674419,0.0116279069767,0.255...\n",
              "11412               ps4  ...  29.0,26.0,0.827586206897,0.0,0.206896551724,0....\n",
              "12962               ps4  ...  85.0,73.0,0.8,0.0,0.0941176470588,0.1529411764...\n",
              "50536               ps4  ...  108.0,94.0,0.768518518519,0.0,0.101851851852,0...\n",
              "68551               ps4  ...  57.0,48.0,0.771929824561,0.0175438596491,0.192...\n",
              "79663               ps4  ...  90.0,78.0,0.822222222222,0.0,0.233333333333,0....\n",
              "80151               ps4  ...  104.0,92.0,0.788461538462,0.0,0.125,0.125,0.08...\n",
              "99498               ps4  ...  139.0,116.0,0.784172661871,0.0,0.107913669065,...\n",
              "119479              ps4  ...  122.0,105.0,0.795081967213,0.0,0.0901639344262...\n",
              "141629              ps4  ...  43.0,38.0,0.790697674419,0.0,0.139534883721,0....\n",
              "195032              ps4  ...  65.0,57.0,0.8,0.0153846153846,0.123076923077,0...\n",
              "215495              ps4  ...  101.0,87.0,0.80198019802,0.0,0.108910891089,0....\n",
              "216484              ps4  ...  112.0,98.0,0.830357142857,0.0,0.0982142857143,...\n",
              "248119              ps4  ...  86.0,70.0,0.779069767442,0.0,0.162790697674,0....\n",
              "263640              ps4  ...  81.0,68.0,0.765432098765,0.0123456790123,0.135...\n",
              "398363              ps4  ...  99.0,87.0,0.737373737374,0.030303030303,0.1515...\n",
              "400231              ps4  ...  53.0,46.0,0.792452830189,0.0188679245283,0.264...\n",
              "441534              ps4  ...  25.0,24.0,0.72,0.0,0.24,0.08,0.2,5.0,5.0,1.0,3...\n",
              "452296              ps4  ...  50.0,43.0,0.82,0.0,0.28,0.16,0.02,9.0,9.0,2.0,...\n",
              "524518              ps4  ...  38.0,34.0,0.815789473684,0.0,0.157894736842,0....\n",
              "\n",
              "[20 rows x 6 columns]"
            ]
          },
          "metadata": {},
          "execution_count": 148
        }
      ]
    },
    {
      "cell_type": "code",
      "metadata": {
        "colab": {
          "base_uri": "https://localhost:8080/"
        },
        "id": "NsEJpokCIS0p",
        "outputId": "0f656b42-f82d-4347-b5cd-b150a8de2062"
      },
      "source": [
        "title_data['SOURCE_SUBREDDIT'].value_counts()"
      ],
      "execution_count": 149,
      "outputs": [
        {
          "output_type": "execute_result",
          "data": {
            "text/plain": [
              "subredditdrama     22971\n",
              "bestof             21170\n",
              "titlegore           9500\n",
              "shitredditsays      7338\n",
              "shitpost            6657\n",
              "                   ...  \n",
              "gloryandgold           1\n",
              "turkeyhunting          1\n",
              "pcgreaterbeings        1\n",
              "starch                 1\n",
              "achacking              1\n",
              "Name: SOURCE_SUBREDDIT, Length: 43695, dtype: int64"
            ]
          },
          "metadata": {},
          "execution_count": 149
        }
      ]
    },
    {
      "cell_type": "code",
      "metadata": {
        "colab": {
          "base_uri": "https://localhost:8080/"
        },
        "id": "fhMZsYyrieUq",
        "outputId": "b5b1782e-aa90-4ff9-de45-804705579fc3"
      },
      "source": [
        "title_data['SOURCE_SUBREDDIT'].value_counts().shape"
      ],
      "execution_count": 150,
      "outputs": [
        {
          "output_type": "execute_result",
          "data": {
            "text/plain": [
              "(43695,)"
            ]
          },
          "metadata": {},
          "execution_count": 150
        }
      ]
    },
    {
      "cell_type": "code",
      "metadata": {
        "colab": {
          "base_uri": "https://localhost:8080/"
        },
        "id": "7RWosDZkh05z",
        "outputId": "c31b10f2-36a3-4252-8e53-b1f2d4a1e5b5"
      },
      "source": [
        "title_data['TARGET_SUBREDDIT'].value_counts()"
      ],
      "execution_count": 151,
      "outputs": [
        {
          "output_type": "execute_result",
          "data": {
            "text/plain": [
              "askreddit            19293\n",
              "pics                  9799\n",
              "iama                  9752\n",
              "todayilearned         8753\n",
              "funny                 8731\n",
              "                     ...  \n",
              "im_going_to_hell         1\n",
              "saekano                  1\n",
              "shroudoftheavatar        1\n",
              "skinwars                 1\n",
              "customt                  1\n",
              "Name: TARGET_SUBREDDIT, Length: 26888, dtype: int64"
            ]
          },
          "metadata": {},
          "execution_count": 151
        }
      ]
    },
    {
      "cell_type": "code",
      "metadata": {
        "colab": {
          "base_uri": "https://localhost:8080/"
        },
        "id": "mgtb_1yUMd-H",
        "outputId": "7364cea4-f78e-4013-c809-dd16c5a80f97"
      },
      "source": [
        "len(pd.unique(title_data['SOURCE_SUBREDDIT']))"
      ],
      "execution_count": 152,
      "outputs": [
        {
          "output_type": "execute_result",
          "data": {
            "text/plain": [
              "43695"
            ]
          },
          "metadata": {},
          "execution_count": 152
        }
      ]
    },
    {
      "cell_type": "code",
      "metadata": {
        "colab": {
          "base_uri": "https://localhost:8080/"
        },
        "id": "noHIVQeDgr_d",
        "outputId": "5c053a42-39aa-4067-fada-33276ae26f54"
      },
      "source": [
        "len(pd.unique(title_data['TARGET_SUBREDDIT']))"
      ],
      "execution_count": 153,
      "outputs": [
        {
          "output_type": "execute_result",
          "data": {
            "text/plain": [
              "26888"
            ]
          },
          "metadata": {},
          "execution_count": 153
        }
      ]
    },
    {
      "cell_type": "code",
      "metadata": {
        "colab": {
          "base_uri": "https://localhost:8080/"
        },
        "id": "4aVjAG2PhAOH",
        "outputId": "3211c77a-505c-41fb-b3ce-33888ba34fe9"
      },
      "source": [
        "len(pd.unique(title_data[['SOURCE_SUBREDDIT', 'TARGET_SUBREDDIT']].values.ravel('K')))"
      ],
      "execution_count": 154,
      "outputs": [
        {
          "output_type": "execute_result",
          "data": {
            "text/plain": [
              "54075"
            ]
          },
          "metadata": {},
          "execution_count": 154
        }
      ]
    },
    {
      "cell_type": "markdown",
      "metadata": {
        "id": "RTEryLSlhNJU"
      },
      "source": [
        "There are 43695 unique source subreddits, 26888 unique target subreddits, with a total of 54075 combined unique subreddits.  "
      ]
    },
    {
      "cell_type": "code",
      "metadata": {
        "colab": {
          "base_uri": "https://localhost:8080/",
          "height": 424
        },
        "id": "xDG3aXiyGjIR",
        "outputId": "678d8de0-a510-4c4d-ebed-718d39e124b3"
      },
      "source": [
        "body_data"
      ],
      "execution_count": 155,
      "outputs": [
        {
          "output_type": "execute_result",
          "data": {
            "text/html": [
              "<div>\n",
              "<style scoped>\n",
              "    .dataframe tbody tr th:only-of-type {\n",
              "        vertical-align: middle;\n",
              "    }\n",
              "\n",
              "    .dataframe tbody tr th {\n",
              "        vertical-align: top;\n",
              "    }\n",
              "\n",
              "    .dataframe thead th {\n",
              "        text-align: right;\n",
              "    }\n",
              "</style>\n",
              "<table border=\"1\" class=\"dataframe\">\n",
              "  <thead>\n",
              "    <tr style=\"text-align: right;\">\n",
              "      <th></th>\n",
              "      <th>SOURCE_SUBREDDIT</th>\n",
              "      <th>TARGET_SUBREDDIT</th>\n",
              "      <th>POST_ID</th>\n",
              "      <th>TIMESTAMP</th>\n",
              "      <th>LINK_SENTIMENT</th>\n",
              "      <th>PROPERTIES</th>\n",
              "    </tr>\n",
              "  </thead>\n",
              "  <tbody>\n",
              "    <tr>\n",
              "      <th>0</th>\n",
              "      <td>leagueoflegends</td>\n",
              "      <td>teamredditteams</td>\n",
              "      <td>1u4nrps</td>\n",
              "      <td>2013-12-31 16:39:58</td>\n",
              "      <td>1</td>\n",
              "      <td>345.0,298.0,0.75652173913,0.0173913043478,0.08...</td>\n",
              "    </tr>\n",
              "    <tr>\n",
              "      <th>1</th>\n",
              "      <td>theredlion</td>\n",
              "      <td>soccer</td>\n",
              "      <td>1u4qkd</td>\n",
              "      <td>2013-12-31 18:18:37</td>\n",
              "      <td>-1</td>\n",
              "      <td>101.0,98.0,0.742574257426,0.019801980198,0.049...</td>\n",
              "    </tr>\n",
              "    <tr>\n",
              "      <th>2</th>\n",
              "      <td>inlandempire</td>\n",
              "      <td>bikela</td>\n",
              "      <td>1u4qlzs</td>\n",
              "      <td>2014-01-01 14:54:35</td>\n",
              "      <td>1</td>\n",
              "      <td>85.0,85.0,0.752941176471,0.0235294117647,0.082...</td>\n",
              "    </tr>\n",
              "    <tr>\n",
              "      <th>3</th>\n",
              "      <td>nfl</td>\n",
              "      <td>cfb</td>\n",
              "      <td>1u4sjvs</td>\n",
              "      <td>2013-12-31 17:37:55</td>\n",
              "      <td>1</td>\n",
              "      <td>1124.0,949.0,0.772241992883,0.0017793594306,0....</td>\n",
              "    </tr>\n",
              "    <tr>\n",
              "      <th>4</th>\n",
              "      <td>playmygame</td>\n",
              "      <td>gamedev</td>\n",
              "      <td>1u4w5ss</td>\n",
              "      <td>2014-01-01 02:51:13</td>\n",
              "      <td>1</td>\n",
              "      <td>715.0,622.0,0.777622377622,0.00699300699301,0....</td>\n",
              "    </tr>\n",
              "    <tr>\n",
              "      <th>...</th>\n",
              "      <td>...</td>\n",
              "      <td>...</td>\n",
              "      <td>...</td>\n",
              "      <td>...</td>\n",
              "      <td>...</td>\n",
              "      <td>...</td>\n",
              "    </tr>\n",
              "    <tr>\n",
              "      <th>286556</th>\n",
              "      <td>negareddit</td>\n",
              "      <td>debatefascism</td>\n",
              "      <td>68im20s</td>\n",
              "      <td>2017-04-30 16:31:26</td>\n",
              "      <td>1</td>\n",
              "      <td>441.0,405.0,0.775510204082,0.0294784580499,0.0...</td>\n",
              "    </tr>\n",
              "    <tr>\n",
              "      <th>286557</th>\n",
              "      <td>mildlynomil</td>\n",
              "      <td>justnomil</td>\n",
              "      <td>68imlas</td>\n",
              "      <td>2017-04-30 04:19:03</td>\n",
              "      <td>1</td>\n",
              "      <td>2226.0,1855.0,0.786163522013,0.00224618149146,...</td>\n",
              "    </tr>\n",
              "    <tr>\n",
              "      <th>286558</th>\n",
              "      <td>mmorpg</td>\n",
              "      <td>blackdesertonline</td>\n",
              "      <td>68ip5os</td>\n",
              "      <td>2017-04-30 16:54:08</td>\n",
              "      <td>1</td>\n",
              "      <td>1100.0,909.0,0.778181818182,0.00181818181818,0...</td>\n",
              "    </tr>\n",
              "    <tr>\n",
              "      <th>286559</th>\n",
              "      <td>electricskateboards</td>\n",
              "      <td>askreddit</td>\n",
              "      <td>68ipb2s</td>\n",
              "      <td>2017-04-30 16:41:53</td>\n",
              "      <td>1</td>\n",
              "      <td>1876.0,1567.0,0.78144989339,0.00692963752665,0...</td>\n",
              "    </tr>\n",
              "    <tr>\n",
              "      <th>286560</th>\n",
              "      <td>mgtow</td>\n",
              "      <td>dataisbeautiful</td>\n",
              "      <td>68ipeos</td>\n",
              "      <td>2017-04-30 16:52:59</td>\n",
              "      <td>1</td>\n",
              "      <td>1129.0,975.0,0.795394154119,0.0150575730735,0....</td>\n",
              "    </tr>\n",
              "  </tbody>\n",
              "</table>\n",
              "<p>286561 rows × 6 columns</p>\n",
              "</div>"
            ],
            "text/plain": [
              "           SOURCE_SUBREDDIT  ...                                         PROPERTIES\n",
              "0           leagueoflegends  ...  345.0,298.0,0.75652173913,0.0173913043478,0.08...\n",
              "1                theredlion  ...  101.0,98.0,0.742574257426,0.019801980198,0.049...\n",
              "2              inlandempire  ...  85.0,85.0,0.752941176471,0.0235294117647,0.082...\n",
              "3                       nfl  ...  1124.0,949.0,0.772241992883,0.0017793594306,0....\n",
              "4                playmygame  ...  715.0,622.0,0.777622377622,0.00699300699301,0....\n",
              "...                     ...  ...                                                ...\n",
              "286556           negareddit  ...  441.0,405.0,0.775510204082,0.0294784580499,0.0...\n",
              "286557          mildlynomil  ...  2226.0,1855.0,0.786163522013,0.00224618149146,...\n",
              "286558               mmorpg  ...  1100.0,909.0,0.778181818182,0.00181818181818,0...\n",
              "286559  electricskateboards  ...  1876.0,1567.0,0.78144989339,0.00692963752665,0...\n",
              "286560                mgtow  ...  1129.0,975.0,0.795394154119,0.0150575730735,0....\n",
              "\n",
              "[286561 rows x 6 columns]"
            ]
          },
          "metadata": {},
          "execution_count": 155
        }
      ]
    },
    {
      "cell_type": "markdown",
      "metadata": {
        "id": "qvUHX0qt6a6Q"
      },
      "source": [
        "Note that the PROPERTIES field contains a lot of comma separated values, but most of the values are fairly useless.  They contain dat such as word count, character count, whitespace, number of sentences, etc.  There are alsoo some AI classified subjects marked there, but those are also potentially unreliable.  Considering how many features exist, and how disparate the amount of information they may contain is, they will be ignored for the purposes of this project.  In a course with a greater emphasis on machine learning or classification, maybe these properties would be potentially more relevant."
      ]
    },
    {
      "cell_type": "code",
      "metadata": {
        "colab": {
          "base_uri": "https://localhost:8080/"
        },
        "id": "p7wp9k3_hZCj",
        "outputId": "858c118e-5d21-427a-f7c5-54f546f1d979"
      },
      "source": [
        "body_data['SOURCE_SUBREDDIT'].value_counts()"
      ],
      "execution_count": 156,
      "outputs": [
        {
          "output_type": "execute_result",
          "data": {
            "text/plain": [
              "subredditdrama         4665\n",
              "circlebroke            2358\n",
              "shitliberalssay        1968\n",
              "outoftheloop           1958\n",
              "copypasta              1824\n",
              "                       ... \n",
              "dogecoingames             1\n",
              "teamlmq                   1\n",
              "socialism_and_chill       1\n",
              "trollanxiety              1\n",
              "nativeamericans           1\n",
              "Name: SOURCE_SUBREDDIT, Length: 27863, dtype: int64"
            ]
          },
          "metadata": {},
          "execution_count": 156
        }
      ]
    },
    {
      "cell_type": "code",
      "metadata": {
        "colab": {
          "base_uri": "https://localhost:8080/"
        },
        "id": "N_-OlvE9iCzL",
        "outputId": "7b2acb37-58ce-4006-ac6e-301fc9f00210"
      },
      "source": [
        "body_data['TARGET_SUBREDDIT'].value_counts()"
      ],
      "execution_count": 157,
      "outputs": [
        {
          "output_type": "execute_result",
          "data": {
            "text/plain": [
              "askreddit            7329\n",
              "iama                 3694\n",
              "pics                 2779\n",
              "writingprompts       2490\n",
              "videos               2446\n",
              "                     ... \n",
              "pkmnuraniumtrades       1\n",
              "paranormalscience       1\n",
              "5eguides                1\n",
              "jackpoint               1\n",
              "mellowboards            1\n",
              "Name: TARGET_SUBREDDIT, Length: 20606, dtype: int64"
            ]
          },
          "metadata": {},
          "execution_count": 157
        }
      ]
    },
    {
      "cell_type": "code",
      "metadata": {
        "colab": {
          "base_uri": "https://localhost:8080/"
        },
        "id": "Xde1lBWIiFkj",
        "outputId": "0437b376-6d41-410f-c26a-77c1c1f5f2c4"
      },
      "source": [
        "len(pd.unique(body_data['SOURCE_SUBREDDIT']))"
      ],
      "execution_count": 158,
      "outputs": [
        {
          "output_type": "execute_result",
          "data": {
            "text/plain": [
              "27863"
            ]
          },
          "metadata": {},
          "execution_count": 158
        }
      ]
    },
    {
      "cell_type": "code",
      "metadata": {
        "colab": {
          "base_uri": "https://localhost:8080/"
        },
        "id": "KBVhr8jqiGDe",
        "outputId": "76bf9c27-202e-4eaf-cfa5-345bab9484e0"
      },
      "source": [
        "len(pd.unique(body_data['TARGET_SUBREDDIT']))"
      ],
      "execution_count": 159,
      "outputs": [
        {
          "output_type": "execute_result",
          "data": {
            "text/plain": [
              "20606"
            ]
          },
          "metadata": {},
          "execution_count": 159
        }
      ]
    },
    {
      "cell_type": "code",
      "metadata": {
        "colab": {
          "base_uri": "https://localhost:8080/"
        },
        "id": "NrrAlFWRiGBT",
        "outputId": "772f3697-3124-47ca-ff70-8b017c3f8d7c"
      },
      "source": [
        "len(pd.unique(body_data[['SOURCE_SUBREDDIT', 'TARGET_SUBREDDIT']].values.ravel('K')))"
      ],
      "execution_count": 160,
      "outputs": [
        {
          "output_type": "execute_result",
          "data": {
            "text/plain": [
              "35776"
            ]
          },
          "metadata": {},
          "execution_count": 160
        }
      ]
    },
    {
      "cell_type": "markdown",
      "metadata": {
        "id": "Ar1SDTSUi6OL"
      },
      "source": [
        "For body data, there are 27863 unique sources, and 20606 unique targets, for a total of 35776 unique subreddits."
      ]
    },
    {
      "cell_type": "code",
      "metadata": {
        "id": "2d6ChyzOi5Hb"
      },
      "source": [
        "title_subreddits = title_data[['SOURCE_SUBREDDIT', 'TARGET_SUBREDDIT']]\n",
        "body_subreddits = body_data[['SOURCE_SUBREDDIT', 'TARGET_SUBREDDIT']]"
      ],
      "execution_count": 161,
      "outputs": []
    },
    {
      "cell_type": "markdown",
      "metadata": {
        "id": "vpvHcapQlYwa"
      },
      "source": [
        "These are all of the subreddits that are referenced"
      ]
    },
    {
      "cell_type": "code",
      "metadata": {
        "id": "GVIPAu_alAv5"
      },
      "source": [
        "all_subreddits = pd.concat([title_subreddits, body_subreddits])"
      ],
      "execution_count": 162,
      "outputs": []
    },
    {
      "cell_type": "code",
      "metadata": {
        "colab": {
          "base_uri": "https://localhost:8080/",
          "height": 424
        },
        "id": "3Rhyxh9klbvq",
        "outputId": "a345ba94-e49b-4541-c6c0-2b7a4ddaab1a"
      },
      "source": [
        "all_subreddits.apply(pd.Series.value_counts)"
      ],
      "execution_count": 163,
      "outputs": [
        {
          "output_type": "execute_result",
          "data": {
            "text/html": [
              "<div>\n",
              "<style scoped>\n",
              "    .dataframe tbody tr th:only-of-type {\n",
              "        vertical-align: middle;\n",
              "    }\n",
              "\n",
              "    .dataframe tbody tr th {\n",
              "        vertical-align: top;\n",
              "    }\n",
              "\n",
              "    .dataframe thead th {\n",
              "        text-align: right;\n",
              "    }\n",
              "</style>\n",
              "<table border=\"1\" class=\"dataframe\">\n",
              "  <thead>\n",
              "    <tr style=\"text-align: right;\">\n",
              "      <th></th>\n",
              "      <th>SOURCE_SUBREDDIT</th>\n",
              "      <th>TARGET_SUBREDDIT</th>\n",
              "    </tr>\n",
              "  </thead>\n",
              "  <tbody>\n",
              "    <tr>\n",
              "      <th>007</th>\n",
              "      <td>1.0</td>\n",
              "      <td>NaN</td>\n",
              "    </tr>\n",
              "    <tr>\n",
              "      <th>01001111010100000</th>\n",
              "      <td>NaN</td>\n",
              "      <td>1.0</td>\n",
              "    </tr>\n",
              "    <tr>\n",
              "      <th>0131</th>\n",
              "      <td>NaN</td>\n",
              "      <td>1.0</td>\n",
              "    </tr>\n",
              "    <tr>\n",
              "      <th>07scape</th>\n",
              "      <td>2.0</td>\n",
              "      <td>3.0</td>\n",
              "    </tr>\n",
              "    <tr>\n",
              "      <th>07thexpansion</th>\n",
              "      <td>1.0</td>\n",
              "      <td>NaN</td>\n",
              "    </tr>\n",
              "    <tr>\n",
              "      <th>...</th>\n",
              "      <td>...</td>\n",
              "      <td>...</td>\n",
              "    </tr>\n",
              "    <tr>\n",
              "      <th>zylooxwrites</th>\n",
              "      <td>4.0</td>\n",
              "      <td>NaN</td>\n",
              "    </tr>\n",
              "    <tr>\n",
              "      <th>zyramains</th>\n",
              "      <td>34.0</td>\n",
              "      <td>8.0</td>\n",
              "    </tr>\n",
              "    <tr>\n",
              "      <th>zyzz</th>\n",
              "      <td>3.0</td>\n",
              "      <td>NaN</td>\n",
              "    </tr>\n",
              "    <tr>\n",
              "      <th>zzseries</th>\n",
              "      <td>1.0</td>\n",
              "      <td>NaN</td>\n",
              "    </tr>\n",
              "    <tr>\n",
              "      <th>zzzz</th>\n",
              "      <td>NaN</td>\n",
              "      <td>1.0</td>\n",
              "    </tr>\n",
              "  </tbody>\n",
              "</table>\n",
              "<p>67180 rows × 2 columns</p>\n",
              "</div>"
            ],
            "text/plain": [
              "                   SOURCE_SUBREDDIT  TARGET_SUBREDDIT\n",
              "007                             1.0               NaN\n",
              "01001111010100000               NaN               1.0\n",
              "0131                            NaN               1.0\n",
              "07scape                         2.0               3.0\n",
              "07thexpansion                   1.0               NaN\n",
              "...                             ...               ...\n",
              "zylooxwrites                    4.0               NaN\n",
              "zyramains                      34.0               8.0\n",
              "zyzz                            3.0               NaN\n",
              "zzseries                        1.0               NaN\n",
              "zzzz                            NaN               1.0\n",
              "\n",
              "[67180 rows x 2 columns]"
            ]
          },
          "metadata": {},
          "execution_count": 163
        }
      ]
    },
    {
      "cell_type": "code",
      "metadata": {
        "colab": {
          "base_uri": "https://localhost:8080/"
        },
        "id": "ALJ8_bFfmO8x",
        "outputId": "cd2f2456-9929-4646-a472-aa5a49880050"
      },
      "source": [
        "len(pd.unique(all_subreddits[['SOURCE_SUBREDDIT', 'TARGET_SUBREDDIT']].values.ravel('K')))"
      ],
      "execution_count": 164,
      "outputs": [
        {
          "output_type": "execute_result",
          "data": {
            "text/plain": [
              "67180"
            ]
          },
          "metadata": {},
          "execution_count": 164
        }
      ]
    },
    {
      "cell_type": "markdown",
      "metadata": {
        "id": "UK8DfVfbmjKw"
      },
      "source": [
        "According to pandas there are 67180 unique subreddits, not 55863 as the dataset stipulates.  I wonder where the discrepancy lies."
      ]
    },
    {
      "cell_type": "code",
      "metadata": {
        "id": "O-A43WKImxHJ"
      },
      "source": [
        "subreddit_references = all_subreddits.apply(pd.Series.value_counts).fillna(0)"
      ],
      "execution_count": 165,
      "outputs": []
    },
    {
      "cell_type": "code",
      "metadata": {
        "id": "lp9dY-hHobYn"
      },
      "source": [
        "subreddit_references[\"TOTAL_REFERENCES\"] = subreddit_references.SOURCE_SUBREDDIT + subreddit_references.TARGET_SUBREDDIT"
      ],
      "execution_count": 166,
      "outputs": []
    },
    {
      "cell_type": "code",
      "metadata": {
        "id": "ByI78IU5ozjY"
      },
      "source": [
        "subreddit_references = subreddit_references.astype(int)"
      ],
      "execution_count": 167,
      "outputs": []
    },
    {
      "cell_type": "code",
      "metadata": {
        "colab": {
          "base_uri": "https://localhost:8080/",
          "height": 424
        },
        "id": "f6BTlQ6EpEro",
        "outputId": "85abf1c0-a4c2-4f3c-aa1a-f23d1768131a"
      },
      "source": [
        "subreddit_references"
      ],
      "execution_count": 168,
      "outputs": [
        {
          "output_type": "execute_result",
          "data": {
            "text/html": [
              "<div>\n",
              "<style scoped>\n",
              "    .dataframe tbody tr th:only-of-type {\n",
              "        vertical-align: middle;\n",
              "    }\n",
              "\n",
              "    .dataframe tbody tr th {\n",
              "        vertical-align: top;\n",
              "    }\n",
              "\n",
              "    .dataframe thead th {\n",
              "        text-align: right;\n",
              "    }\n",
              "</style>\n",
              "<table border=\"1\" class=\"dataframe\">\n",
              "  <thead>\n",
              "    <tr style=\"text-align: right;\">\n",
              "      <th></th>\n",
              "      <th>SOURCE_SUBREDDIT</th>\n",
              "      <th>TARGET_SUBREDDIT</th>\n",
              "      <th>TOTAL_REFERENCES</th>\n",
              "    </tr>\n",
              "  </thead>\n",
              "  <tbody>\n",
              "    <tr>\n",
              "      <th>007</th>\n",
              "      <td>1</td>\n",
              "      <td>0</td>\n",
              "      <td>1</td>\n",
              "    </tr>\n",
              "    <tr>\n",
              "      <th>01001111010100000</th>\n",
              "      <td>0</td>\n",
              "      <td>1</td>\n",
              "      <td>1</td>\n",
              "    </tr>\n",
              "    <tr>\n",
              "      <th>0131</th>\n",
              "      <td>0</td>\n",
              "      <td>1</td>\n",
              "      <td>1</td>\n",
              "    </tr>\n",
              "    <tr>\n",
              "      <th>07scape</th>\n",
              "      <td>2</td>\n",
              "      <td>3</td>\n",
              "      <td>5</td>\n",
              "    </tr>\n",
              "    <tr>\n",
              "      <th>07thexpansion</th>\n",
              "      <td>1</td>\n",
              "      <td>0</td>\n",
              "      <td>1</td>\n",
              "    </tr>\n",
              "    <tr>\n",
              "      <th>...</th>\n",
              "      <td>...</td>\n",
              "      <td>...</td>\n",
              "      <td>...</td>\n",
              "    </tr>\n",
              "    <tr>\n",
              "      <th>zylooxwrites</th>\n",
              "      <td>4</td>\n",
              "      <td>0</td>\n",
              "      <td>4</td>\n",
              "    </tr>\n",
              "    <tr>\n",
              "      <th>zyramains</th>\n",
              "      <td>34</td>\n",
              "      <td>8</td>\n",
              "      <td>42</td>\n",
              "    </tr>\n",
              "    <tr>\n",
              "      <th>zyzz</th>\n",
              "      <td>3</td>\n",
              "      <td>0</td>\n",
              "      <td>3</td>\n",
              "    </tr>\n",
              "    <tr>\n",
              "      <th>zzseries</th>\n",
              "      <td>1</td>\n",
              "      <td>0</td>\n",
              "      <td>1</td>\n",
              "    </tr>\n",
              "    <tr>\n",
              "      <th>zzzz</th>\n",
              "      <td>0</td>\n",
              "      <td>1</td>\n",
              "      <td>1</td>\n",
              "    </tr>\n",
              "  </tbody>\n",
              "</table>\n",
              "<p>67180 rows × 3 columns</p>\n",
              "</div>"
            ],
            "text/plain": [
              "                   SOURCE_SUBREDDIT  TARGET_SUBREDDIT  TOTAL_REFERENCES\n",
              "007                               1                 0                 1\n",
              "01001111010100000                 0                 1                 1\n",
              "0131                              0                 1                 1\n",
              "07scape                           2                 3                 5\n",
              "07thexpansion                     1                 0                 1\n",
              "...                             ...               ...               ...\n",
              "zylooxwrites                      4                 0                 4\n",
              "zyramains                        34                 8                42\n",
              "zyzz                              3                 0                 3\n",
              "zzseries                          1                 0                 1\n",
              "zzzz                              0                 1                 1\n",
              "\n",
              "[67180 rows x 3 columns]"
            ]
          },
          "metadata": {},
          "execution_count": 168
        }
      ]
    },
    {
      "cell_type": "code",
      "metadata": {
        "id": "8xrFHzYjpOnI"
      },
      "source": [
        "subreddit_references.sort_values(by=['TOTAL_REFERENCES'], ascending=False,inplace=True)"
      ],
      "execution_count": 169,
      "outputs": []
    },
    {
      "cell_type": "code",
      "metadata": {
        "colab": {
          "base_uri": "https://localhost:8080/",
          "height": 424
        },
        "id": "eQO9KnrvpYXZ",
        "outputId": "bcda7ba2-5067-4e0c-f0bd-5330d0e764e6"
      },
      "source": [
        "subreddit_references"
      ],
      "execution_count": 170,
      "outputs": [
        {
          "output_type": "execute_result",
          "data": {
            "text/html": [
              "<div>\n",
              "<style scoped>\n",
              "    .dataframe tbody tr th:only-of-type {\n",
              "        vertical-align: middle;\n",
              "    }\n",
              "\n",
              "    .dataframe tbody tr th {\n",
              "        vertical-align: top;\n",
              "    }\n",
              "\n",
              "    .dataframe thead th {\n",
              "        text-align: right;\n",
              "    }\n",
              "</style>\n",
              "<table border=\"1\" class=\"dataframe\">\n",
              "  <thead>\n",
              "    <tr style=\"text-align: right;\">\n",
              "      <th></th>\n",
              "      <th>SOURCE_SUBREDDIT</th>\n",
              "      <th>TARGET_SUBREDDIT</th>\n",
              "      <th>TOTAL_REFERENCES</th>\n",
              "    </tr>\n",
              "  </thead>\n",
              "  <tbody>\n",
              "    <tr>\n",
              "      <th>subredditdrama</th>\n",
              "      <td>27636</td>\n",
              "      <td>3507</td>\n",
              "      <td>31143</td>\n",
              "    </tr>\n",
              "    <tr>\n",
              "      <th>askreddit</th>\n",
              "      <td>1338</td>\n",
              "      <td>26622</td>\n",
              "      <td>27960</td>\n",
              "    </tr>\n",
              "    <tr>\n",
              "      <th>bestof</th>\n",
              "      <td>21170</td>\n",
              "      <td>1459</td>\n",
              "      <td>22629</td>\n",
              "    </tr>\n",
              "    <tr>\n",
              "      <th>iama</th>\n",
              "      <td>1187</td>\n",
              "      <td>13446</td>\n",
              "      <td>14633</td>\n",
              "    </tr>\n",
              "    <tr>\n",
              "      <th>pics</th>\n",
              "      <td>253</td>\n",
              "      <td>12578</td>\n",
              "      <td>12831</td>\n",
              "    </tr>\n",
              "    <tr>\n",
              "      <th>...</th>\n",
              "      <td>...</td>\n",
              "      <td>...</td>\n",
              "      <td>...</td>\n",
              "    </tr>\n",
              "    <tr>\n",
              "      <th>landlordadvice</th>\n",
              "      <td>1</td>\n",
              "      <td>0</td>\n",
              "      <td>1</td>\n",
              "    </tr>\n",
              "    <tr>\n",
              "      <th>landlordsupport</th>\n",
              "      <td>1</td>\n",
              "      <td>0</td>\n",
              "      <td>1</td>\n",
              "    </tr>\n",
              "    <tr>\n",
              "      <th>landofdustandthunder</th>\n",
              "      <td>1</td>\n",
              "      <td>0</td>\n",
              "      <td>1</td>\n",
              "    </tr>\n",
              "    <tr>\n",
              "      <th>landoffakes</th>\n",
              "      <td>0</td>\n",
              "      <td>1</td>\n",
              "      <td>1</td>\n",
              "    </tr>\n",
              "    <tr>\n",
              "      <th>zzzz</th>\n",
              "      <td>0</td>\n",
              "      <td>1</td>\n",
              "      <td>1</td>\n",
              "    </tr>\n",
              "  </tbody>\n",
              "</table>\n",
              "<p>67180 rows × 3 columns</p>\n",
              "</div>"
            ],
            "text/plain": [
              "                      SOURCE_SUBREDDIT  TARGET_SUBREDDIT  TOTAL_REFERENCES\n",
              "subredditdrama                   27636              3507             31143\n",
              "askreddit                         1338             26622             27960\n",
              "bestof                           21170              1459             22629\n",
              "iama                              1187             13446             14633\n",
              "pics                               253             12578             12831\n",
              "...                                ...               ...               ...\n",
              "landlordadvice                       1                 0                 1\n",
              "landlordsupport                      1                 0                 1\n",
              "landofdustandthunder                 1                 0                 1\n",
              "landoffakes                          0                 1                 1\n",
              "zzzz                                 0                 1                 1\n",
              "\n",
              "[67180 rows x 3 columns]"
            ]
          },
          "metadata": {},
          "execution_count": 170
        }
      ]
    },
    {
      "cell_type": "code",
      "metadata": {
        "id": "BqGq3Fg-uBG2"
      },
      "source": [
        "subreddit_references['NEW_ID'] = np.arange(len(subreddit_references))"
      ],
      "execution_count": 171,
      "outputs": []
    },
    {
      "cell_type": "code",
      "metadata": {
        "colab": {
          "base_uri": "https://localhost:8080/",
          "height": 424
        },
        "id": "58YuvuHouH-H",
        "outputId": "ccc1d1a8-15a2-4cbe-c7bb-29fc780697ac"
      },
      "source": [
        "subreddit_references"
      ],
      "execution_count": 172,
      "outputs": [
        {
          "output_type": "execute_result",
          "data": {
            "text/html": [
              "<div>\n",
              "<style scoped>\n",
              "    .dataframe tbody tr th:only-of-type {\n",
              "        vertical-align: middle;\n",
              "    }\n",
              "\n",
              "    .dataframe tbody tr th {\n",
              "        vertical-align: top;\n",
              "    }\n",
              "\n",
              "    .dataframe thead th {\n",
              "        text-align: right;\n",
              "    }\n",
              "</style>\n",
              "<table border=\"1\" class=\"dataframe\">\n",
              "  <thead>\n",
              "    <tr style=\"text-align: right;\">\n",
              "      <th></th>\n",
              "      <th>SOURCE_SUBREDDIT</th>\n",
              "      <th>TARGET_SUBREDDIT</th>\n",
              "      <th>TOTAL_REFERENCES</th>\n",
              "      <th>NEW_ID</th>\n",
              "    </tr>\n",
              "  </thead>\n",
              "  <tbody>\n",
              "    <tr>\n",
              "      <th>subredditdrama</th>\n",
              "      <td>27636</td>\n",
              "      <td>3507</td>\n",
              "      <td>31143</td>\n",
              "      <td>0</td>\n",
              "    </tr>\n",
              "    <tr>\n",
              "      <th>askreddit</th>\n",
              "      <td>1338</td>\n",
              "      <td>26622</td>\n",
              "      <td>27960</td>\n",
              "      <td>1</td>\n",
              "    </tr>\n",
              "    <tr>\n",
              "      <th>bestof</th>\n",
              "      <td>21170</td>\n",
              "      <td>1459</td>\n",
              "      <td>22629</td>\n",
              "      <td>2</td>\n",
              "    </tr>\n",
              "    <tr>\n",
              "      <th>iama</th>\n",
              "      <td>1187</td>\n",
              "      <td>13446</td>\n",
              "      <td>14633</td>\n",
              "      <td>3</td>\n",
              "    </tr>\n",
              "    <tr>\n",
              "      <th>pics</th>\n",
              "      <td>253</td>\n",
              "      <td>12578</td>\n",
              "      <td>12831</td>\n",
              "      <td>4</td>\n",
              "    </tr>\n",
              "    <tr>\n",
              "      <th>...</th>\n",
              "      <td>...</td>\n",
              "      <td>...</td>\n",
              "      <td>...</td>\n",
              "      <td>...</td>\n",
              "    </tr>\n",
              "    <tr>\n",
              "      <th>landlordadvice</th>\n",
              "      <td>1</td>\n",
              "      <td>0</td>\n",
              "      <td>1</td>\n",
              "      <td>67175</td>\n",
              "    </tr>\n",
              "    <tr>\n",
              "      <th>landlordsupport</th>\n",
              "      <td>1</td>\n",
              "      <td>0</td>\n",
              "      <td>1</td>\n",
              "      <td>67176</td>\n",
              "    </tr>\n",
              "    <tr>\n",
              "      <th>landofdustandthunder</th>\n",
              "      <td>1</td>\n",
              "      <td>0</td>\n",
              "      <td>1</td>\n",
              "      <td>67177</td>\n",
              "    </tr>\n",
              "    <tr>\n",
              "      <th>landoffakes</th>\n",
              "      <td>0</td>\n",
              "      <td>1</td>\n",
              "      <td>1</td>\n",
              "      <td>67178</td>\n",
              "    </tr>\n",
              "    <tr>\n",
              "      <th>zzzz</th>\n",
              "      <td>0</td>\n",
              "      <td>1</td>\n",
              "      <td>1</td>\n",
              "      <td>67179</td>\n",
              "    </tr>\n",
              "  </tbody>\n",
              "</table>\n",
              "<p>67180 rows × 4 columns</p>\n",
              "</div>"
            ],
            "text/plain": [
              "                      SOURCE_SUBREDDIT  ...  NEW_ID\n",
              "subredditdrama                   27636  ...       0\n",
              "askreddit                         1338  ...       1\n",
              "bestof                           21170  ...       2\n",
              "iama                              1187  ...       3\n",
              "pics                               253  ...       4\n",
              "...                                ...  ...     ...\n",
              "landlordadvice                       1  ...   67175\n",
              "landlordsupport                      1  ...   67176\n",
              "landofdustandthunder                 1  ...   67177\n",
              "landoffakes                          0  ...   67178\n",
              "zzzz                                 0  ...   67179\n",
              "\n",
              "[67180 rows x 4 columns]"
            ]
          },
          "metadata": {},
          "execution_count": 172
        }
      ]
    },
    {
      "cell_type": "code",
      "metadata": {
        "id": "6iZeykj2pnAo"
      },
      "source": [
        "name_dict = subreddit_references.drop(['SOURCE_SUBREDDIT', 'TARGET_SUBREDDIT', 'TOTAL_REFERENCES'], axis=1).to_dict()"
      ],
      "execution_count": 173,
      "outputs": []
    },
    {
      "cell_type": "code",
      "metadata": {
        "id": "qA2b_eMSudkW"
      },
      "source": [
        "name_dict = name_dict['NEW_ID']"
      ],
      "execution_count": 174,
      "outputs": []
    },
    {
      "cell_type": "code",
      "metadata": {
        "id": "3iLvtoEBu7LN"
      },
      "source": [
        "name_dict"
      ],
      "execution_count": null,
      "outputs": []
    },
    {
      "cell_type": "code",
      "metadata": {
        "id": "LTlVmhzkvvI2"
      },
      "source": [
        "inv_name_dict = {v: k for k, v in name_dict.items()}"
      ],
      "execution_count": 176,
      "outputs": []
    },
    {
      "cell_type": "code",
      "metadata": {
        "id": "RWnHdTsfvza1"
      },
      "source": [
        "inv_name_dict"
      ],
      "execution_count": null,
      "outputs": []
    },
    {
      "cell_type": "code",
      "metadata": {
        "colab": {
          "base_uri": "https://localhost:8080/"
        },
        "id": "-zCDOBr_z4o7",
        "outputId": "c9ea9b30-466b-4c46-91bb-5adc17c13bca"
      },
      "source": [
        "title_data['SOURCE_SUBREDDIT'].map(name_dict)"
      ],
      "execution_count": 178,
      "outputs": [
        {
          "output_type": "execute_result",
          "data": {
            "text/plain": [
              "0         24737\n",
              "1           149\n",
              "2           148\n",
              "3            47\n",
              "4            47\n",
              "          ...  \n",
              "571922     3033\n",
              "571923      405\n",
              "571924      720\n",
              "571925      394\n",
              "571926       91\n",
              "Name: SOURCE_SUBREDDIT, Length: 571927, dtype: int64"
            ]
          },
          "metadata": {},
          "execution_count": 178
        }
      ]
    },
    {
      "cell_type": "code",
      "metadata": {
        "colab": {
          "base_uri": "https://localhost:8080/"
        },
        "id": "Mmgd_ka50lhz",
        "outputId": "15971ee4-05ba-4d96-c83b-2189b1edcbc0"
      },
      "source": [
        "title_data['TARGET_SUBREDDIT'].map(name_dict)"
      ],
      "execution_count": 179,
      "outputs": [
        {
          "output_type": "execute_result",
          "data": {
            "text/plain": [
              "0         60679\n",
              "1           625\n",
              "2           625\n",
              "3          2521\n",
              "4           114\n",
              "          ...  \n",
              "571922      782\n",
              "571923     3061\n",
              "571924       24\n",
              "571925       28\n",
              "571926      203\n",
              "Name: TARGET_SUBREDDIT, Length: 571927, dtype: int64"
            ]
          },
          "metadata": {},
          "execution_count": 179
        }
      ]
    },
    {
      "cell_type": "code",
      "metadata": {
        "id": "e3oy2K2k0Zdj"
      },
      "source": [
        "title_edge_df = pd.concat([title_data['SOURCE_SUBREDDIT'].map(name_dict), title_data['TARGET_SUBREDDIT'].map(name_dict), title_data['LINK_SENTIMENT']], axis=1)"
      ],
      "execution_count": 180,
      "outputs": []
    },
    {
      "cell_type": "code",
      "metadata": {
        "id": "n-5dl8nr2iZk"
      },
      "source": [
        "body_edge_df = pd.concat([body_data['SOURCE_SUBREDDIT'].map(name_dict), body_data['TARGET_SUBREDDIT'].map(name_dict), body_data['LINK_SENTIMENT']], axis=1)"
      ],
      "execution_count": 181,
      "outputs": []
    },
    {
      "cell_type": "markdown",
      "metadata": {
        "id": "Ssmf8XVA2vdp"
      },
      "source": [
        "title_edge_df and body_edge_df are pandas dataframes of source to target with link sentiment, with subreddit names replaced with unique IDs that will also be used as indices into sparse matrix"
      ]
    },
    {
      "cell_type": "code",
      "metadata": {
        "id": "o1bHAp7D4MYp"
      },
      "source": [
        "title_edge_pos = title_edge_df[title_edge_df['LINK_SENTIMENT']==1]\n",
        "title_edge_neg = title_edge_df[title_edge_df['LINK_SENTIMENT']==-1]"
      ],
      "execution_count": 182,
      "outputs": []
    },
    {
      "cell_type": "code",
      "metadata": {
        "id": "CyaXxfQg4lrR"
      },
      "source": [
        "body_edge_pos = body_edge_df[body_edge_df['LINK_SENTIMENT']==1]\n",
        "body_edge_neg = body_edge_df[body_edge_df['LINK_SENTIMENT']==-1]"
      ],
      "execution_count": 183,
      "outputs": []
    },
    {
      "cell_type": "markdown",
      "metadata": {
        "id": "-ahoasVcxbTg"
      },
      "source": [
        "# Setting up sparse matrix representation of link graph"
      ]
    },
    {
      "cell_type": "code",
      "metadata": {
        "id": "QcdONwry7h-Z"
      },
      "source": [
        "from scipy.sparse import csr_matrix\n",
        "from sklearn.metrics.pairwise import cosine_similarity"
      ],
      "execution_count": 184,
      "outputs": []
    },
    {
      "cell_type": "code",
      "metadata": {
        "id": "HFj3edaT7iyH"
      },
      "source": [
        "title_pos_matrix = csr_matrix((pd.Series.to_numpy(title_edge_pos.LINK_SENTIMENT), (pd.Series.to_numpy(title_edge_pos.SOURCE_SUBREDDIT), pd.Series.to_numpy(title_edge_pos.TARGET_SUBREDDIT))), shape=(67180,67180))"
      ],
      "execution_count": 185,
      "outputs": []
    },
    {
      "cell_type": "code",
      "metadata": {
        "colab": {
          "base_uri": "https://localhost:8080/"
        },
        "id": "nBe7eaV3-mEX",
        "outputId": "7747dc9a-9ae7-4962-8d58-9d1015a5dbfa"
      },
      "source": [
        "title_pos_matrix"
      ],
      "execution_count": 186,
      "outputs": [
        {
          "output_type": "execute_result",
          "data": {
            "text/plain": [
              "<67180x67180 sparse matrix of type '<class 'numpy.longlong'>'\n",
              "\twith 221593 stored elements in Compressed Sparse Row format>"
            ]
          },
          "metadata": {},
          "execution_count": 186
        }
      ]
    },
    {
      "cell_type": "code",
      "metadata": {
        "id": "hN34-TM__EBu"
      },
      "source": [
        "title_neg_matrix = csr_matrix((pd.Series.to_numpy(title_edge_neg.LINK_SENTIMENT), (pd.Series.to_numpy(title_edge_neg.SOURCE_SUBREDDIT), pd.Series.to_numpy(title_edge_neg.TARGET_SUBREDDIT))), shape=(67180,67180))"
      ],
      "execution_count": 187,
      "outputs": []
    },
    {
      "cell_type": "code",
      "metadata": {
        "colab": {
          "base_uri": "https://localhost:8080/"
        },
        "id": "CKkPeeKH_MX2",
        "outputId": "cefd5626-5a00-4246-b738-b0927e01b068"
      },
      "source": [
        "title_neg_matrix"
      ],
      "execution_count": 188,
      "outputs": [
        {
          "output_type": "execute_result",
          "data": {
            "text/plain": [
              "<67180x67180 sparse matrix of type '<class 'numpy.longlong'>'\n",
              "\twith 29257 stored elements in Compressed Sparse Row format>"
            ]
          },
          "metadata": {},
          "execution_count": 188
        }
      ]
    },
    {
      "cell_type": "code",
      "metadata": {
        "id": "2xAji4ch_UGG"
      },
      "source": [
        "body_pos_matrix = csr_matrix((pd.Series.to_numpy(body_edge_pos.LINK_SENTIMENT), (pd.Series.to_numpy(body_edge_pos.SOURCE_SUBREDDIT), pd.Series.to_numpy(body_edge_pos.TARGET_SUBREDDIT))), shape=(67180,67180))"
      ],
      "execution_count": 189,
      "outputs": []
    },
    {
      "cell_type": "code",
      "metadata": {
        "colab": {
          "base_uri": "https://localhost:8080/"
        },
        "id": "uNhVqwo3_iut",
        "outputId": "b40c52e6-fb94-4dd7-9684-2cd81d35d12c"
      },
      "source": [
        "body_pos_matrix"
      ],
      "execution_count": 190,
      "outputs": [
        {
          "output_type": "execute_result",
          "data": {
            "text/plain": [
              "<67180x67180 sparse matrix of type '<class 'numpy.longlong'>'\n",
              "\twith 130513 stored elements in Compressed Sparse Row format>"
            ]
          },
          "metadata": {},
          "execution_count": 190
        }
      ]
    },
    {
      "cell_type": "code",
      "metadata": {
        "id": "9TCUjx6G_gXG"
      },
      "source": [
        "body_neg_matrix = csr_matrix((pd.Series.to_numpy(body_edge_neg.LINK_SENTIMENT), (pd.Series.to_numpy(body_edge_neg.SOURCE_SUBREDDIT), pd.Series.to_numpy(body_edge_neg.TARGET_SUBREDDIT))), shape=(67180,67180))"
      ],
      "execution_count": 191,
      "outputs": []
    },
    {
      "cell_type": "code",
      "metadata": {
        "colab": {
          "base_uri": "https://localhost:8080/"
        },
        "id": "HBDFcl7j_kq-",
        "outputId": "7894194a-bed4-4860-f57a-4d2a621b07cb"
      },
      "source": [
        "body_neg_matrix"
      ],
      "execution_count": 192,
      "outputs": [
        {
          "output_type": "execute_result",
          "data": {
            "text/plain": [
              "<67180x67180 sparse matrix of type '<class 'numpy.longlong'>'\n",
              "\twith 14513 stored elements in Compressed Sparse Row format>"
            ]
          },
          "metadata": {},
          "execution_count": 192
        }
      ]
    },
    {
      "cell_type": "code",
      "metadata": {
        "colab": {
          "base_uri": "https://localhost:8080/"
        },
        "id": "BesFzhIs_1dF",
        "outputId": "1d210e3f-efae-4f88-f43d-ecfd07af362e"
      },
      "source": [
        "title_neg_matrix.min()"
      ],
      "execution_count": 193,
      "outputs": [
        {
          "output_type": "execute_result",
          "data": {
            "text/plain": [
              "-107"
            ]
          },
          "metadata": {},
          "execution_count": 193
        }
      ]
    },
    {
      "cell_type": "code",
      "metadata": {
        "colab": {
          "base_uri": "https://localhost:8080/"
        },
        "id": "yKPe3vYXyG0h",
        "outputId": "905d81dc-a0a4-4759-b4e6-c229393f5512"
      },
      "source": [
        "title_pos_matrix[148, 149]"
      ],
      "execution_count": 207,
      "outputs": [
        {
          "output_type": "execute_result",
          "data": {
            "text/plain": [
              "20"
            ]
          },
          "metadata": {},
          "execution_count": 207
        }
      ]
    },
    {
      "cell_type": "markdown",
      "metadata": {
        "id": "zD4Lpb25AVP2"
      },
      "source": [
        "Checking that ps4->xboxone title sentiment is in fact 20, which we found out earlier."
      ]
    },
    {
      "cell_type": "code",
      "metadata": {
        "id": "wxCv6gx4r3qK"
      },
      "source": [
        "title_sum_matrix = title_pos_matrix + title_neg_matrix\n",
        "title_abs_matrix = title_pos_matrix + abs(title_neg_matrix)\n",
        "body_sum_matrix = body_pos_matrix + body_neg_matrix\n",
        "body_abs_matrix = body_pos_matrix + abs(body_neg_matrix)\n",
        "overall_pos_matrix = title_pos_matrix + body_pos_matrix\n",
        "overall_neg_matrix = title_neg_matrix + body_neg_matrix\n",
        "overall_sum_matrix = overall_pos_matrix + overall_neg_matrix\n",
        "overall_abs_matrix = overall_pos_matrix + abs(overall_neg_matrix)"
      ],
      "execution_count": 208,
      "outputs": []
    },
    {
      "cell_type": "markdown",
      "metadata": {
        "id": "510YLaGCuFCq"
      },
      "source": [
        "There are a few derived ratings matrices we can create.\n",
        "\n",
        "\n",
        "title_sum_matrix is simply the sum of all positive and negative sentiments from title references.  This means that a very controversial subreddit (many positive and negative mentions) will get a score very close to zero.  However, this may or may not be desirable, as this means a very popular subreddit with both positive and negative references is treated the same as a subreddit with no references at all, which probably makes little sense.  Similarly, this same thing is applied to comments dealing with the body as well in terms of body_sum_matrix, with the same corresponding problems.\n",
        "\n",
        "title_abs_matrix and body_abs_matrix measures total engagement, which is to say, all references to another subreddit regardless of sentiment.  This is done by summing the absolute values of both positive and negative sentiments.  Of course, an argument can be made that with two subreddits of identical absolute engagement, the one with greater positive engagement should be what is recommended, so a more intelligent way to measure this may be some weighted average of positive engagement ratio along with overall engagement.\n",
        "\n",
        "overall_pos_matrix and overall_neg_matrix combines the title and body engagements into one matrix, separated into positive and negative.  This gives an idea of the overally positive and negative relationships between two subreddits.\n",
        "\n",
        "overall_sum_matrix and overall_abs_matrix calculate the sum of all links between subreddits (both title and body), both as a normal sum and as total engagement.  This suffers from the same problems as the individual title/body submatrices in terms of controversial subreddits, but likely gives a better overall picture as it includes both title and body."
      ]
    },
    {
      "cell_type": "code",
      "metadata": {
        "id": "cHZNVkcdB0ON"
      },
      "source": [
        "title_pos_similarities = cosine_similarity(title_pos_matrix, dense_output=False)\n",
        "title_neg_similarities = cosine_similarity(title_neg_matrix, dense_output=False)\n",
        "body_pos_similarities = cosine_similarity(body_pos_matrix, dense_output=False)\n",
        "body_neg_similarities = cosine_similarity(body_neg_matrix, dense_output=False)\n",
        "title_sum_similarities = cosine_similarity(title_sum_matrix, dense_output=False)\n",
        "title_abs_similarities = cosine_similarity(title_abs_matrix, dense_output=False)\n",
        "body_sum_similarities = cosine_similarity(body_sum_matrix, dense_output=False)\n",
        "body_abs_similarities = cosine_similarity(body_abs_matrix, dense_output=False)\n",
        "overall_pos_similarities = cosine_similarity(overall_pos_matrix, dense_output=False)\n",
        "overall_neg_similarities = cosine_similarity(overall_neg_matrix, dense_output=False)\n",
        "overall_sum_similarities = cosine_similarity(overall_sum_matrix, dense_output=False)\n",
        "overall_abs_similarities = cosine_similarity(overall_abs_matrix, dense_output=False)"
      ],
      "execution_count": 209,
      "outputs": []
    },
    {
      "cell_type": "markdown",
      "metadata": {
        "id": "AuPk1nG6zqSi"
      },
      "source": [
        "We can calculate a cosine similarity matrix for each derived matrix as well.  Note that the colab machine reports that these matrices are taking up about 9GB of RAM, so even in an extremely simplified sparse matrix representation this graph is already starting to take large amounts of space."
      ]
    },
    {
      "cell_type": "code",
      "metadata": {
        "colab": {
          "base_uri": "https://localhost:8080/"
        },
        "id": "VVovtVplz8RP",
        "outputId": "5cea5951-edd6-4278-abef-208e32197e10"
      },
      "source": [
        "title_pos_similarities"
      ],
      "execution_count": 212,
      "outputs": [
        {
          "output_type": "execute_result",
          "data": {
            "text/plain": [
              "<67180x67180 sparse matrix of type '<class 'numpy.float64'>'\n",
              "\twith 57458473 stored elements in Compressed Sparse Row format>"
            ]
          },
          "metadata": {},
          "execution_count": 212
        }
      ]
    },
    {
      "cell_type": "markdown",
      "metadata": {
        "id": "QQKBpN2gz-h_"
      },
      "source": [
        "There are 57,458,473 cosine similarities just for positive title sentiment"
      ]
    },
    {
      "cell_type": "code",
      "metadata": {
        "colab": {
          "base_uri": "https://localhost:8080/"
        },
        "id": "eQxvbSQvB_Ie",
        "outputId": "214dc56e-b162-41c5-e2eb-9462267bd370"
      },
      "source": [
        "overall_abs_similarities"
      ],
      "execution_count": 211,
      "outputs": [
        {
          "output_type": "execute_result",
          "data": {
            "text/plain": [
              "<67180x67180 sparse matrix of type '<class 'numpy.float64'>'\n",
              "\twith 100302845 stored elements in Compressed Sparse Row format>"
            ]
          },
          "metadata": {},
          "execution_count": 211
        }
      ]
    },
    {
      "cell_type": "markdown",
      "metadata": {
        "id": "3FGKHzm60EpA"
      },
      "source": [
        "There are 100,302,845 cosine similarities for overall sentiment.  That's a lot of relationships!"
      ]
    },
    {
      "cell_type": "markdown",
      "metadata": {
        "id": "IJMzQ8VQ3LrF"
      },
      "source": [
        "# Testing out cosine similarities between nodes"
      ]
    },
    {
      "cell_type": "code",
      "metadata": {
        "id": "R1rTE8RJFX-j"
      },
      "source": [
        "from scipy.sparse import coo_matrix"
      ],
      "execution_count": 196,
      "outputs": []
    },
    {
      "cell_type": "code",
      "metadata": {
        "id": "NM_AfpyoD-P8"
      },
      "source": [
        "def sort_coo(m):\n",
        "    tuples = zip(m.row, m.col, m.data)\n",
        "    return sorted(tuples, key=lambda x: (x[0], x[2]), reverse=True)\n",
        "\n",
        "def print_ordered(similarities, n):\n",
        "  temp = []\n",
        "  if len(similarities) > n+1:\n",
        "    temp = similarities[:n+1]\n",
        "  else:\n",
        "    temp = similarities\n",
        "\n",
        "  for _, target, simval in temp:\n",
        "    print(inv_name_dict[target] + ' ' + str(simval))\n",
        "\n",
        "def most_similar_title(subreddit, n):\n",
        "  index = name_dict[subreddit]\n",
        "  title_pos_ordered = sort_coo(coo_matrix(title_pos_similarities[index,:]))\n",
        "  print('\\nTitle Positive Similarities')\n",
        "  print_ordered(title_pos_ordered, n)\n",
        "  title_neg_ordered = sort_coo(coo_matrix(title_neg_similarities[index,:]))\n",
        "  print('\\nTitle Negative Similarities')\n",
        "  print_ordered(title_neg_ordered, n)\n",
        "  title_sum_ordered = sort_coo(coo_matrix(title_sum_similarities[index,:]))\n",
        "  print('\\nTitle Sum Similarities')\n",
        "  print_ordered(title_sum_ordered, n)\n",
        "  title_abs_ordered = sort_coo(coo_matrix(title_abs_similarities[index,:]))\n",
        "  print('\\nTitle Absolute Similarities')\n",
        "  print_ordered(title_abs_ordered, n)"
      ],
      "execution_count": 229,
      "outputs": []
    },
    {
      "cell_type": "code",
      "metadata": {
        "colab": {
          "base_uri": "https://localhost:8080/"
        },
        "id": "Jlchq8bH050u",
        "outputId": "0108b1d7-4e19-40c9-acd7-9fc543ffe328"
      },
      "source": [
        "most_similar_title('bestof', 10)"
      ],
      "execution_count": 230,
      "outputs": [
        {
          "output_type": "stream",
          "name": "stdout",
          "text": [
            "\n",
            "Title Positive Similarities\n",
            "bestof 1.0000000000000664\n",
            "titlegore 0.7856521988680251\n",
            "subredditdrama 0.7845811577897087\n",
            "shitredditsays 0.7558006183615689\n",
            "bestofx 0.7430871158943632\n",
            "circlebroke2 0.7041395014273958\n",
            "switcharoo 0.7007029547509753\n",
            "negativewithgold 0.6859628169838068\n",
            "shitamericanssay 0.6763794994744957\n",
            "hailcorporate 0.6633676882958081\n",
            "downvotesmcgoats 0.6285915500005943\n",
            "\n",
            "Title Negative Similarities\n",
            "bestof 0.9999999999999806\n",
            "subredditdrama 0.7692511979509326\n",
            "shitamericanssay 0.7204867812631529\n",
            "circlebroke2 0.720453565879771\n",
            "worstof 0.6775816393813526\n",
            "hailcorporate 0.606118157469646\n",
            "conspiracy 0.6055694762325968\n",
            "drama 0.6054431802101261\n",
            "switcharoo 0.6038641918390052\n",
            "shitstatistssay 0.5961404583471542\n",
            "agitation 0.5941316464555162\n",
            "\n",
            "Title Sum Similarities\n",
            "bestof 0.999999999999999\n",
            "titlegore 0.7734626584850804\n",
            "shitredditsays 0.7204829350432758\n",
            "subredditdrama 0.7123948968763669\n",
            "switcharoo 0.6825006150444906\n",
            "negativewithgold 0.6546523262008791\n",
            "circlebroke2 0.6538292208228091\n",
            "hailcorporate 0.6420724227460372\n",
            "shitamericanssay 0.640248945351013\n",
            "bestofx 0.6367781103196075\n",
            "theydidthemath 0.621471155944645\n",
            "\n",
            "Title Absolute Similarities\n",
            "bestof 0.9999999999999847\n",
            "subredditdrama 0.79736859610444\n",
            "titlegore 0.7871218874637624\n",
            "bestofx 0.7659374216569269\n",
            "shitredditsays 0.7627155456566831\n",
            "circlebroke2 0.7226009249000923\n",
            "ripbestof 0.7178401519409131\n",
            "switcharoo 0.7071389501914762\n",
            "negativewithgold 0.6972808023753945\n",
            "shitamericanssay 0.6958996932759847\n",
            "hailcorporate 0.6734119283336706\n"
          ]
        }
      ]
    },
    {
      "cell_type": "markdown",
      "metadata": {
        "id": "I-zqFWeBsTGC"
      },
      "source": [
        "These are the 10 most similar subreddits to \"bestof\" using title positive similarities and cosine similarity.  If you look at the results, some of them don't actually make sense, likely due to the way that the dataset measures \"sentiment\".  From my personal experience on reddit, the bestof subreddit typically is supposed to highlight interesting or insightful posts.  On the other hand, subreddits such as subredditdrama or shitredditsays may refer to the same posts, but they are typically more negative about it (specifically, subredditdrama is about petty arguments that other people have posted, and shitredditsays is about bad things redditors say, so while these subreddits refer to the same subreddits, all they are actually pointing out is popular subreddits with a lot of engagement.  We can see that when posting the title negative similarities alongside it, there is a lot of overlap.  Clearly this somewhat confirms that for popular subreddits, there are lots of haters and fans.\n",
        "\n",
        "Looking at the sum and absolute similarities, we do see some differences between.  Generally, the subreddits with highest engagement in a sum and absolute sense will also have high numbers for positive and negative engagement, but the exact ordering does reveal the nature of the engagement.  For example, subredditdrama has a higher absolute rating than sum rating because so much of the engagement is negative, compared to something like titlegore, which has lower absolute overall engagement, even though more of it is positive."
      ]
    },
    {
      "cell_type": "code",
      "metadata": {
        "colab": {
          "base_uri": "https://localhost:8080/"
        },
        "id": "JPB7QlEbXQyP",
        "outputId": "cf2e91f2-ea91-4fbe-ae78-1a168d99a83d"
      },
      "source": [
        "most_similar_title('subredditdrama', 10)"
      ],
      "execution_count": 276,
      "outputs": [
        {
          "output_type": "stream",
          "name": "stdout",
          "text": [
            "\n",
            "Title Positive Similarities\n",
            "subredditdrama 0.9999999999999556\n",
            "bestof 0.7845811577897087\n",
            "bettersubredditdrama 0.7408297918249133\n",
            "shitredditsays 0.7338629155482723\n",
            "titlegore 0.7081710500568117\n",
            "circlebroke2 0.6948272821407213\n",
            "shitamericanssay 0.6886684226805748\n",
            "drama 0.664685923800088\n",
            "negativewithgold 0.660804308699007\n",
            "thepopcornstand 0.6330600050235166\n",
            "switcharoo 0.6252331159570645\n",
            "\n",
            "Title Negative Similarities\n",
            "subredditdrama 0.9999999999999902\n",
            "bestof 0.7692511979509326\n",
            "drama 0.6972647051950439\n",
            "circlebroke2 0.6788593795497063\n",
            "bettersubredditdrama 0.6569970176295737\n",
            "worstof 0.6550165041547218\n",
            "shitamericanssay 0.6531093583601424\n",
            "hailcorporate 0.5869302975561764\n",
            "switcharoo 0.5838538328670715\n",
            "thepopcornstand 0.5688225360971919\n",
            "negativewithgold 0.5609867947712562\n",
            "\n",
            "Title Sum Similarities\n",
            "subredditdrama 0.9999999999999732\n",
            "bestof 0.7123948968763669\n",
            "shitredditsays 0.6620514478764549\n",
            "shitamericanssay 0.6484605318723358\n",
            "titlegore 0.6481277631763024\n",
            "circlebroke2 0.6321111444359585\n",
            "negativewithgold 0.5948062671866755\n",
            "switcharoo 0.5664022916221727\n",
            "shitstatistssay 0.5407772229786096\n",
            "jesuschristreddit 0.5327709634993175\n",
            "hailcorporate 0.524965134492333\n",
            "\n",
            "Title Absolute Similarities\n",
            "subredditdrama 1.0000000000000207\n",
            "bettersubredditdrama 0.814086022730788\n",
            "bestof 0.79736859610444\n",
            "shitredditsays 0.7396812695521444\n",
            "titlegore 0.713483392884983\n",
            "drama 0.7013920994855528\n",
            "circlebroke2 0.7009627465877462\n",
            "shitamericanssay 0.6896927185708319\n",
            "negativewithgold 0.6703973196090858\n",
            "worstof 0.6419848708745317\n",
            "thepopcornstand 0.6405060396888385\n"
          ]
        }
      ]
    },
    {
      "cell_type": "markdown",
      "metadata": {
        "id": "xQ7lJTZFXbrf"
      },
      "source": [
        "There's definitely a lot of overlap between bestof and subredditdrama, though subredditdrama has a lot of stuff that sounds drama related as well.  Still, the highest similiarity subreddits across the two are the same, with some lower ranked stuff that's the same as well."
      ]
    },
    {
      "cell_type": "code",
      "metadata": {
        "colab": {
          "base_uri": "https://localhost:8080/"
        },
        "id": "7E7F9aY716aX",
        "outputId": "55d6af8e-7498-4e5e-9666-33559fa6c527"
      },
      "source": [
        "most_similar_title('arduino', 10)"
      ],
      "execution_count": 231,
      "outputs": [
        {
          "output_type": "stream",
          "name": "stdout",
          "text": [
            "\n",
            "Title Positive Similarities\n",
            "arduino 0.9999999999999993\n",
            "waterheater 0.4950737714883372\n",
            "diyelectronics 0.44464864589994385\n",
            "tvrepair 0.4428074427700477\n",
            "ece 0.40239636386228556\n",
            "takecareofmyplant 0.4001633653325207\n",
            "led_lighting 0.39605901719066977\n",
            "klug 0.39605901719066977\n",
            "rasplex 0.39605901719066977\n",
            "clublcd 0.39605901719066977\n",
            "rpicanada 0.39605901719066977\n",
            "\n",
            "Title Negative Similarities\n",
            "\n",
            "Title Sum Similarities\n",
            "arduino 0.9999999999999993\n",
            "waterheater 0.4950737714883372\n",
            "diyelectronics 0.44464864589994385\n",
            "tvrepair 0.4428074427700477\n",
            "takecareofmyplant 0.4001633653325207\n",
            "led_lighting 0.39605901719066977\n",
            "klug 0.39605901719066977\n",
            "rasplex 0.39605901719066977\n",
            "clublcd 0.39605901719066977\n",
            "rpicanada 0.39605901719066977\n",
            "zerophone 0.39605901719066977\n",
            "\n",
            "Title Absolute Similarities\n",
            "arduino 0.9999999999999993\n",
            "waterheater 0.4950737714883372\n",
            "diyelectronics 0.44464864589994385\n",
            "tvrepair 0.4428074427700477\n",
            "ece 0.4052818694009867\n",
            "takecareofmyplant 0.4001633653325207\n",
            "led_lighting 0.39605901719066977\n",
            "klug 0.39605901719066977\n",
            "rasplex 0.39605901719066977\n",
            "clublcd 0.39605901719066977\n",
            "rpicanada 0.39605901719066977\n"
          ]
        }
      ]
    },
    {
      "cell_type": "markdown",
      "metadata": {
        "id": "ORy2jdgZ18Z9"
      },
      "source": [
        "Let's try something a bit more specialized, like the arduino subreddit.  The similar subreddits make a lot of sense (waterheater, diyelectronics, ece, led_lighting, raspberry pi stuff, etc.) and also, there are no negative references at all.  My guess would be that obscure subreddits don't really attract many haters."
      ]
    },
    {
      "cell_type": "code",
      "metadata": {
        "id": "9a0EAmM62Osh"
      },
      "source": [
        "def most_similar_body(subreddit, n):\n",
        "  index = name_dict[subreddit]\n",
        "  body_pos_ordered = sort_coo(coo_matrix(body_pos_similarities[index,:]))\n",
        "  print('\\nbody Positive Similarities')\n",
        "  print_ordered(body_pos_ordered, n)\n",
        "  body_neg_ordered = sort_coo(coo_matrix(body_neg_similarities[index,:]))\n",
        "  print('\\nbody Negative Similarities')\n",
        "  print_ordered(body_neg_ordered, n)\n",
        "  body_sum_ordered = sort_coo(coo_matrix(body_sum_similarities[index,:]))\n",
        "  print('\\nbody Sum Similarities')\n",
        "  print_ordered(body_sum_ordered, n)\n",
        "  body_abs_ordered = sort_coo(coo_matrix(body_abs_similarities[index,:]))\n",
        "  print('\\nbody Absolute Similarities')\n",
        "  print_ordered(body_abs_ordered, n)"
      ],
      "execution_count": 232,
      "outputs": []
    },
    {
      "cell_type": "code",
      "metadata": {
        "colab": {
          "base_uri": "https://localhost:8080/"
        },
        "id": "C99bnnrG4vKU",
        "outputId": "ca454d59-aa61-4853-9638-c8b82a5c4435"
      },
      "source": [
        "most_similar_body('worldnews', 10)"
      ],
      "execution_count": 233,
      "outputs": [
        {
          "output_type": "stream",
          "name": "stdout",
          "text": [
            "\n",
            "body Positive Similarities\n",
            "worldnews 1.0\n",
            "ukrainianuprising 0.8017837257372732\n",
            "ukraineliveupdates 0.7559289460184544\n",
            "askacountry 0.4008918628686366\n",
            "hungary 0.3118724702341802\n",
            "ukraina 0.3118724702341802\n",
            "iamarequests 0.27121055727014226\n",
            "polska 0.2710523708715754\n",
            "justaskkate 0.2672612419124244\n",
            "macedoniagreece 0.2672612419124244\n",
            "houseofblue 0.2672612419124244\n",
            "\n",
            "body Negative Similarities\n",
            "\n",
            "body Sum Similarities\n",
            "worldnews 1.0\n",
            "ukrainianuprising 0.8017837257372732\n",
            "ukraineliveupdates 0.7559289460184544\n",
            "askacountry 0.4008918628686366\n",
            "hungary 0.3118724702341802\n",
            "ukraina 0.3118724702341802\n",
            "russia 0.2754865825096699\n",
            "iamarequests 0.27121055727014226\n",
            "polska 0.2710523708715754\n",
            "justaskkate 0.2672612419124244\n",
            "macedoniagreece 0.2672612419124244\n",
            "\n",
            "body Absolute Similarities\n",
            "worldnews 1.0\n",
            "ukrainianuprising 0.8017837257372732\n",
            "ukraineliveupdates 0.7559289460184544\n",
            "askacountry 0.4008918628686366\n",
            "hungary 0.3118724702341802\n",
            "ukraina 0.3118724702341802\n",
            "iamarequests 0.27121055727014226\n",
            "polska 0.2710523708715754\n",
            "justaskkate 0.2672612419124244\n",
            "macedoniagreece 0.2672612419124244\n",
            "houseofblue 0.2672612419124244\n"
          ]
        }
      ]
    },
    {
      "cell_type": "markdown",
      "metadata": {
        "id": "NVkcbOt944hF"
      },
      "source": [
        "Looking at the contents of the body, it appears that most similar subreddits to worldnews are geographical or political in nature.  This makes a lot of intuitive sense.  Weirdly, there are no negative comments for worldnews, which seems unlikely due to how controversial news and politics can be.  My guess is that the AI classifier used for the dataset is somewhat inaccurate."
      ]
    },
    {
      "cell_type": "code",
      "metadata": {
        "colab": {
          "base_uri": "https://localhost:8080/"
        },
        "id": "gCUN1JMe5LhF",
        "outputId": "472780b5-ee11-4bb6-9546-f46f0f0a4256"
      },
      "source": [
        "most_similar_body('funny', 10)"
      ],
      "execution_count": 235,
      "outputs": [
        {
          "output_type": "stream",
          "name": "stdout",
          "text": [
            "\n",
            "body Positive Similarities\n",
            "funny 1.0000000000000004\n",
            "jokes 0.729034543610301\n",
            "tifu 0.6962033490777806\n",
            "bandnames 0.6920947071777853\n",
            "nostupidquestions 0.6913946924463147\n",
            "writingprompts 0.6883597176315113\n",
            "findareddit 0.6804243135226014\n",
            "dadjokes 0.678054487777502\n",
            "showerthoughts 0.677813138882235\n",
            "outoftheloop 0.6754404033293417\n",
            "self 0.6700257566073631\n",
            "\n",
            "body Negative Similarities\n",
            "funny 0.9999999999999997\n",
            "justcolumbusthings 0.7559289460184544\n",
            "killoggs 0.7559289460184544\n",
            "quotesbygreatman 0.7559289460184544\n",
            "raisedbynarcicists 0.7559289460184544\n",
            "noslip 0.7559289460184544\n",
            "broccoli 0.7559289460184544\n",
            "andomboltsfan 0.7559289460184544\n",
            "adviceformen 0.7559289460184544\n",
            "dowhateverthefuck 0.7559289460184544\n",
            "shitaussiessay 0.7559289460184544\n",
            "\n",
            "body Sum Similarities\n",
            "funny 0.9999999999999988\n",
            "jokes 0.5810709789695301\n",
            "writingprompts 0.5706560525810978\n",
            "dadjokes 0.567168685398532\n",
            "nostupidquestions 0.5636051563178673\n",
            "circlejerk 0.5626019416956244\n",
            "bandnames 0.5623261493512295\n",
            "findareddit 0.5580090066416805\n",
            "outoftheloop 0.5575842529042979\n",
            "drawmynightmare 0.556890098923011\n",
            "blackaces 0.556890098923011\n",
            "\n",
            "body Absolute Similarities\n",
            "funny 1.0000000000000007\n",
            "jokes 0.7997471594102925\n",
            "tifu 0.7735553858784306\n",
            "bandnames 0.762194584982501\n",
            "casualconversation 0.7479688964194331\n",
            "showerthoughts 0.7476816936359245\n",
            "self 0.74630382736385\n",
            "writingprompts 0.7457390811777767\n",
            "nostupidquestions 0.7452239210705385\n",
            "lifeprotips 0.740525946979355\n",
            "findareddit 0.7384691386516881\n"
          ]
        }
      ]
    },
    {
      "cell_type": "markdown",
      "metadata": {
        "id": "GMXQLmxv5U0T"
      },
      "source": [
        "As expected, most subreddits related to funny also seem like humorous subreddits.  The negative similarities, are weird, but I don't know enough about reddit communities to say why exactly these subreddits seem to hate funny.  I'm sure it's just internet being internet though."
      ]
    },
    {
      "cell_type": "code",
      "metadata": {
        "id": "5aZisEI25m1l"
      },
      "source": [
        "def most_similar_overall(subreddit, n):\n",
        "  index = name_dict[subreddit]\n",
        "  overall_pos_ordered = sort_coo(coo_matrix(overall_pos_similarities[index,:]))\n",
        "  print('\\noverall Positive Similarities')\n",
        "  print_ordered(overall_pos_ordered, n)\n",
        "  overall_neg_ordered = sort_coo(coo_matrix(overall_neg_similarities[index,:]))\n",
        "  print('\\noverall Negative Similarities')\n",
        "  print_ordered(overall_neg_ordered, n)\n",
        "  overall_sum_ordered = sort_coo(coo_matrix(overall_sum_similarities[index,:]))\n",
        "  print('\\noverall Sum Similarities')\n",
        "  print_ordered(overall_sum_ordered, n)\n",
        "  overall_abs_ordered = sort_coo(coo_matrix(overall_abs_similarities[index,:]))\n",
        "  print('\\noverall Absolute Similarities')\n",
        "  print_ordered(overall_abs_ordered, n)"
      ],
      "execution_count": 237,
      "outputs": []
    },
    {
      "cell_type": "code",
      "metadata": {
        "colab": {
          "base_uri": "https://localhost:8080/"
        },
        "id": "cR-mavBE5yf-",
        "outputId": "8c46335a-d6de-4303-ab5d-c8f88357879d"
      },
      "source": [
        "most_similar_overall('nba', 10)"
      ],
      "execution_count": 238,
      "outputs": [
        {
          "output_type": "stream",
          "name": "stdout",
          "text": [
            "\n",
            "overall Positive Similarities\n",
            "nba 1.0000000000000004\n",
            "saveforoffseason 0.5941761807895202\n",
            "boxeo 0.35926589699685485\n",
            "nfldev 0.31890484775677425\n",
            "kijafa 0.3118507875790121\n",
            "nflcirclejerk 0.3095057965898426\n",
            "patriots 0.30889518671471994\n",
            "lastman 0.30253970273419356\n",
            "kickersarepeopletoo 0.30253970273419356\n",
            "kcchiefs 0.30253970273419356\n",
            "marvinshares 0.30253970273419356\n",
            "\n",
            "overall Negative Similarities\n",
            "nba 0.9999999999999998\n",
            "filthydaymoon 0.29814239699997197\n",
            "bait 0.29814239699997197\n",
            "kingsringleader 0.2927700218845599\n",
            "chibears 0.2756247308353552\n",
            "buffalobills 0.2752409412815901\n",
            "doublemintdave79 0.273861278752583\n",
            "redditirl 0.2581988897471611\n",
            "politicallyincorrect 0.2581988897471611\n",
            "ftlgame 0.2581988897471611\n",
            "lawr11 0.2581988897471611\n",
            "\n",
            "overall Sum Similarities\n",
            "nba 0.9999999999999989\n",
            "saveforoffseason 0.5919637607636616\n",
            "boxeo 0.35998163405860595\n",
            "nfldev 0.31711509499087925\n",
            "kijafa 0.30557929716301574\n",
            "nflcirclejerk 0.30451032780059045\n",
            "patriots 0.3031152015588966\n",
            "lastman 0.2956991994052835\n",
            "kickersarepeopletoo 0.2956991994052835\n",
            "kcchiefs 0.2956991994052835\n",
            "marvinshares 0.2956991994052835\n",
            "\n",
            "overall Absolute Similarities\n",
            "nba 1.0000000000000007\n",
            "saveforoffseason 0.5951578786439926\n",
            "boxeo 0.3578883477408492\n",
            "nfldev 0.3200098993290611\n",
            "kijafa 0.3172714295148282\n",
            "nflcirclejerk 0.313248773487781\n",
            "patriots 0.3131501273391647\n",
            "lastman 0.3085244377076286\n",
            "kickersarepeopletoo 0.3085244377076286\n",
            "kcchiefs 0.3085244377076286\n",
            "marvinshares 0.3085244377076286\n"
          ]
        }
      ]
    },
    {
      "cell_type": "markdown",
      "metadata": {
        "id": "RYE_xZiT552k"
      },
      "source": [
        "It looks like for overall sentiment, this works too.  Subreddits related to nba are also typically sports related."
      ]
    },
    {
      "cell_type": "code",
      "metadata": {
        "colab": {
          "base_uri": "https://localhost:8080/"
        },
        "id": "s8RO03_v5-XU",
        "outputId": "2bf06249-4acd-4f53-f32e-c91e8d3b9971"
      },
      "source": [
        "most_similar_overall('audiophile', 10)"
      ],
      "execution_count": 239,
      "outputs": [
        {
          "output_type": "stream",
          "name": "stdout",
          "text": [
            "\n",
            "overall Positive Similarities\n",
            "audiophile 1.0000000000000009\n",
            "umlaudio 0.7241379310344828\n",
            "bluetooth_audiophile 0.7241379310344828\n",
            "zeos 0.7241379310344828\n",
            "sennheiser 0.719243577693953\n",
            "headphonegore 0.6869775606572686\n",
            "audiojerk 0.683499170911011\n",
            "headphonemods 0.6785309724826948\n",
            "audiophilemusic 0.5120428415488792\n",
            "diytubes 0.46297731954663374\n",
            "zreviews 0.43631968442067165\n",
            "\n",
            "overall Negative Similarities\n",
            "audiophile 0.9999999999999999\n",
            "zreviews 0.4472135954999579\n",
            "linustechtips 0.4472135954999579\n",
            "iracing 0.4472135954999579\n",
            "oculusnsfw 0.4472135954999579\n",
            "stupidcomments 0.4472135954999579\n",
            "chaoticmonki 0.4472135954999579\n",
            "devicemodder 0.4472135954999579\n",
            "borderlessinternet 0.4472135954999579\n",
            "yahoo 0.4472135954999579\n",
            "windows10techsupport 0.4472135954999579\n",
            "\n",
            "overall Sum Similarities\n",
            "audiophile 0.9999999999999998\n",
            "umlaudio 0.7351470441147051\n",
            "bluetooth_audiophile 0.7351470441147051\n",
            "zeos 0.7351470441147051\n",
            "sennheiser 0.7216878364870322\n",
            "headphonegore 0.697421722362825\n",
            "headphonemods 0.6731911129165357\n",
            "audiojerk 0.6213126521846355\n",
            "audiophilemusic 0.5198274600627539\n",
            "diytubes 0.4700159919404216\n",
            "zreviews 0.42042049624769523\n",
            "\n",
            "overall Absolute Similarities\n",
            "audiophile 1.0000000000000009\n",
            "sennheiser 0.7129231853228158\n",
            "umlaudio 0.7095242473194603\n",
            "bluetooth_audiophile 0.7095242473194603\n",
            "zeos 0.7095242473194603\n",
            "audiojerk 0.7009236355658632\n",
            "headphonemods 0.6799476208674369\n",
            "headphonegore 0.6731138029938339\n",
            "audiophilemusic 0.5017094066958714\n",
            "diytubes 0.4536340662448518\n",
            "zreviews 0.44904900226982686\n"
          ]
        }
      ]
    },
    {
      "cell_type": "markdown",
      "metadata": {
        "id": "qSsFmitA6FXk"
      },
      "source": [
        "Technology subreddits are related to technology subreddits.  No surprise here."
      ]
    },
    {
      "cell_type": "code",
      "metadata": {
        "colab": {
          "base_uri": "https://localhost:8080/"
        },
        "id": "83ZS5m_-7DFr",
        "outputId": "b5299d8c-95d3-49e0-9e16-2160795c548f"
      },
      "source": [
        "most_similar_overall('bestof', 10)"
      ],
      "execution_count": 240,
      "outputs": [
        {
          "output_type": "stream",
          "name": "stdout",
          "text": [
            "\n",
            "overall Positive Similarities\n",
            "bestof 1.0000000000000664\n",
            "titlegore 0.7856610941691795\n",
            "subredditdrama 0.7757884952699804\n",
            "shitredditsays 0.7585688484146593\n",
            "bestofx 0.7430871158943632\n",
            "askreddit 0.7317218910451536\n",
            "circlebroke2 0.7077170358662244\n",
            "switcharoo 0.7012626941415063\n",
            "negativewithgold 0.6859628169838068\n",
            "circlebroke 0.6852216950699838\n",
            "shitamericanssay 0.6712349346572092\n",
            "\n",
            "overall Negative Similarities\n",
            "bestof 0.9999999999999806\n",
            "subredditdrama 0.7673020328503986\n",
            "circlebroke2 0.7248658488778594\n",
            "shitamericanssay 0.7245899349777801\n",
            "circlebroke 0.6918281840361827\n",
            "worstof 0.6741221486406522\n",
            "askreddit 0.6629122990910421\n",
            "hailcorporate 0.6627688547991992\n",
            "changemyview 0.6088630349522124\n",
            "drama 0.6081926903251285\n",
            "conspiracy 0.6074470351968989\n",
            "\n",
            "overall Sum Similarities\n",
            "bestof 0.999999999999999\n",
            "titlegore 0.7734658565585298\n",
            "shitredditsays 0.7257850890802634\n",
            "askreddit 0.7111934957762555\n",
            "subredditdrama 0.7110469736365441\n",
            "switcharoo 0.6832433853739892\n",
            "circlebroke2 0.6599958023803391\n",
            "negativewithgold 0.6546523262008791\n",
            "hailcorporate 0.6433542087447104\n",
            "bestofx 0.6367781103196075\n",
            "shitamericanssay 0.6330616961473337\n",
            "\n",
            "overall Absolute Similarities\n",
            "bestof 0.9999999999999847\n",
            "subredditdrama 0.7891342800308134\n",
            "titlegore 0.7871345199074934\n",
            "bestofx 0.7659374216569269\n",
            "shitredditsays 0.7631538125101217\n",
            "askreddit 0.7359124152043786\n",
            "circlebroke2 0.7257572226179944\n",
            "ripbestof 0.7178401519409131\n",
            "switcharoo 0.7074763390074951\n",
            "circlebroke 0.699649586440615\n",
            "negativewithgold 0.6972808023753945\n"
          ]
        }
      ]
    },
    {
      "cell_type": "markdown",
      "metadata": {
        "id": "IclP5ZWR8iIT"
      },
      "source": [
        "# Two-Level cosine similarity"
      ]
    },
    {
      "cell_type": "markdown",
      "metadata": {
        "id": "LPquC9n48WLD"
      },
      "source": [
        "You could also do multi level cosine similarity.  Essentially, you can take the cosine similarities of the most closely related subreddits, and then do a weighted average of the second level cosine simlarities using the first order cosine similarities.  This would probably yield interesting results as well."
      ]
    },
    {
      "cell_type": "code",
      "metadata": {
        "id": "PKAIUumZ8lIr"
      },
      "source": [
        "def most_similar_level2(index, similarities, all_similarities, n):\n",
        "  tempsim = similarities\n",
        "  temp = []\n",
        "\n",
        "  if len(tempsim) > n+1:\n",
        "    temp = tempsim[:n+1]\n",
        "  else:\n",
        "    temp = tempsim\n",
        "\n",
        "  if len(temp) > 1:\n",
        "    del temp[0]\n",
        "\n",
        "  tempcsr = csr_matrix((1, 67180))\n",
        "  for row, target, simval in temp:\n",
        "    templ2 = all_similarities[target,:]\n",
        "    templ2 = simval * templ2\n",
        "    tempcsr = tempcsr + templ2\n",
        "  \n",
        "  return sort_coo(coo_matrix(tempcsr))\n",
        "\n",
        "def most_similar_l2(subreddit, n):\n",
        "  index = name_dict[subreddit]\n",
        "  ret = most_similar_level2(index, sort_coo(coo_matrix(title_pos_similarities[index,:])), title_pos_similarities, n)\n",
        "  print('\\nTitle Positive L2 Similarities')\n",
        "  print_ordered(ret, n)\n",
        "  ret = most_similar_level2(index, sort_coo(coo_matrix(title_neg_similarities[index,:])), title_neg_similarities, n)\n",
        "  print('\\nTitle Negative L2 Similarities')\n",
        "  print_ordered(ret, n)\n",
        "  index = name_dict[subreddit]\n",
        "  ret = most_similar_level2(index, sort_coo(coo_matrix(body_pos_similarities[index,:])), body_pos_similarities, n)\n",
        "  print('\\nBody Positive L2 Similarities')\n",
        "  print_ordered(ret, n)\n",
        "  ret = most_similar_level2(index, sort_coo(coo_matrix(body_neg_similarities[index,:])), body_neg_similarities, n)\n",
        "  print('\\nBody Negative L2 Similarities')\n",
        "  print_ordered(ret, n)"
      ],
      "execution_count": 272,
      "outputs": []
    },
    {
      "cell_type": "code",
      "metadata": {
        "colab": {
          "base_uri": "https://localhost:8080/"
        },
        "id": "vy_PoEOgGHHG",
        "outputId": "b20e32e4-33ec-4b7e-b607-7c57d5e7e5cd"
      },
      "source": [
        "most_similar_l2('todayilearned', 10)"
      ],
      "execution_count": 273,
      "outputs": [
        {
          "output_type": "stream",
          "name": "stdout",
          "text": [
            "\n",
            "Title Positive L2 Similarities\n",
            "rekt 7.584071411513256\n",
            "topcommentoftheday 7.496685455119426\n",
            "stanisms 7.489966197329456\n",
            "mostgilded 7.483356909477301\n",
            "museumofreddit 7.476813404775156\n",
            "unexpected 7.469055509983657\n",
            "retiredusername 7.439649881853167\n",
            "beetlejuicing 7.415826734967048\n",
            "shittyedits 7.394517896861706\n",
            "deathclub 7.3884049847917375\n",
            "bestofreddit 7.3713555832232025\n",
            "\n",
            "Title Negative L2 Similarities\n",
            "bestoftldr 7.475609692760652\n",
            "topcommentoftheday 7.454312345215963\n",
            "learning2animate 7.449437087067448\n",
            "justpatriarchythings 7.449437087067448\n",
            "hspas 7.449437087067448\n",
            "im14andthisisscary 7.449437087067448\n",
            "illbleed 7.449437087067448\n",
            "ihopeyousteponalego 7.449437087067448\n",
            "pizzaghazi 7.449437087067448\n",
            "osta1014 7.449437087067448\n",
            "quotables 7.449437087067448\n",
            "\n",
            "Body Positive L2 Similarities\n",
            "\n",
            "Body Negative L2 Similarities\n"
          ]
        }
      ]
    },
    {
      "cell_type": "code",
      "metadata": {
        "colab": {
          "base_uri": "https://localhost:8080/"
        },
        "id": "wEGdPtIEEXlS",
        "outputId": "e5d3aab7-3a18-42b3-86a8-78647a4289b3"
      },
      "source": [
        "most_similar_title('todayilearned', 10)"
      ],
      "execution_count": 257,
      "outputs": [
        {
          "output_type": "stream",
          "name": "stdout",
          "text": [
            "\n",
            "Title Positive Similarities\n",
            "todayilearned 1.000000000000002\n",
            "mostgilded 0.8736687746573939\n",
            "museumofreddit 0.8657579401343583\n",
            "bestofreddit 0.8572044118282093\n",
            "rekt 0.8556923652466499\n",
            "beetlejuicing 0.8533605669378973\n",
            "getmotivated 0.8499661657960971\n",
            "himym 0.8437467342659353\n",
            "stanisms 0.8418690619745864\n",
            "pka 0.839349185810448\n",
            "deathclub 0.8385967435130857\n",
            "\n",
            "Title Negative Similarities\n",
            "todayilearned 0.999999999999999\n",
            "beetlejuicing 0.8483532151850262\n",
            "bestoftldr 0.8300442879560048\n",
            "topcommentoftheday 0.8270710460190414\n",
            "switcheroo 0.818098035306588\n",
            "evenwithcontext 0.8071130443825552\n",
            "whoreddithatesnow 0.7946006132197156\n",
            "wtfdidijustread 0.7829864903972594\n",
            "learning2animate 0.7786385727061238\n",
            "justpatriarchythings 0.7786385727061238\n",
            "hspas 0.7786385727061238\n",
            "\n",
            "Title Sum Similarities\n",
            "todayilearned 0.9999999999999959\n",
            "mostgilded 0.8459896801799931\n",
            "museumofreddit 0.8307591936057898\n",
            "beetlejuicing 0.8247830777855427\n",
            "bestofreddit 0.8245134781455893\n",
            "pka 0.8240624562384042\n",
            "rekt 0.8234832293860749\n",
            "getmotivated 0.8174641774217102\n",
            "himym 0.8163780786843735\n",
            "topcommentoftheday 0.8141341897845996\n",
            "retiredusername 0.8114931241997339\n",
            "\n",
            "Title Absolute Similarities\n",
            "todayilearned 0.9999999999999897\n",
            "mostgilded 0.8860998557564796\n",
            "museumofreddit 0.8774292631551898\n",
            "beetlejuicing 0.8691389209295514\n",
            "bestofreddit 0.8643355016761565\n",
            "getmotivated 0.863656227907762\n",
            "himym 0.8603558929658502\n",
            "deathclub 0.8572191284367062\n",
            "rekt 0.8565532584713511\n",
            "stanisms 0.8558360981500269\n",
            "retiredusername 0.8506034784644609\n"
          ]
        }
      ]
    },
    {
      "cell_type": "markdown",
      "metadata": {
        "id": "d4Il7MBEFhrH"
      },
      "source": [
        "Taking the L2 similarities with weighted averages of nodes of distance 2, we can see that it is fairly similar to the immediate neighbor similarities, though there are some differences in both ordering and content.  You could extend this concept to even further neighbor nodes of distance 3 or greater, and implement a recursive function to search in this manner, with decreasing weights.  This would give you potentially more interesting results, at great computational cost."
      ]
    },
    {
      "cell_type": "code",
      "metadata": {
        "colab": {
          "base_uri": "https://localhost:8080/"
        },
        "id": "kT4lG5YcJdF9",
        "outputId": "458a46e3-b066-4f84-dcd9-4a866bd43b5f"
      },
      "source": [
        "most_similar_l2('leagueoflegends', 10)"
      ],
      "execution_count": 274,
      "outputs": [
        {
          "output_type": "stream",
          "name": "stdout",
          "text": [
            "\n",
            "Title Positive L2 Similarities\n",
            "justzenoththings 5.7142093722407274\n",
            "linamasterrace 5.7142093722407274\n",
            "lootmarket 5.7142093722407274\n",
            "islandd 5.7142093722407274\n",
            "ihatedragons 5.7142093722407274\n",
            "onetrueclip 5.7142093722407274\n",
            "navalwarfare 5.7142093722407274\n",
            "boinked 5.7142093722407274\n",
            "busey 5.7142093722407274\n",
            "amateurdota2league 5.7142093722407274\n",
            "1308 5.7142093722407274\n",
            "\n",
            "Title Negative L2 Similarities\n",
            "dotameme 4.596194077712559\n",
            "stopdota2 4.596194077712559\n",
            "whyihatethefrontpage 4.596194077712559\n",
            "skrid 4.596194077712559\n",
            "dota2shitpost 4.596194077712559\n",
            "letsdrownout 4.596194077712559\n",
            "spiderrights 4.596194077712559\n",
            "iamveryranked 4.596194077712559\n",
            "covane 4.596194077712559\n",
            "ggdota2 4.596194077712559\n",
            "dota2til 4.596194077712559\n",
            "\n",
            "Body Positive L2 Similarities\n",
            "carlboison 7.8454310592639445\n",
            "allthingsadc 7.8454310592639445\n",
            "fumus 7.8454310592639445\n",
            "timergg 7.8454310592639445\n",
            "skarnermains 7.8454310592639445\n",
            "shurimaslegacy 7.8454310592639445\n",
            "blitzmains 7.8454310592639445\n",
            "xayahmains 7.8454310592639445\n",
            "6spam 7.8454310592639445\n",
            "nautilusmains 7.8454310592639445\n",
            "corkimains 7.8454310592639445\n",
            "\n",
            "Body Negative L2 Similarities\n",
            "etymology 1.1037639441976366\n",
            "rickandmorty 1.1033985612951296\n",
            "accounting 1.1033985612951296\n",
            "glitch_in_the_matrix 1.1033985612951296\n",
            "writingprompts 1.0043110199600251\n",
            "judaism 0.9978176749878889\n",
            "aspergers 0.9926254901247625\n",
            "bandnames 0.9766005338227217\n",
            "lewronggeneration 0.9076500002526663\n",
            "harrypotter 0.9076500002526663\n",
            "frozen 0.9076500002526663\n"
          ]
        }
      ]
    },
    {
      "cell_type": "code",
      "metadata": {
        "colab": {
          "base_uri": "https://localhost:8080/"
        },
        "id": "OYQPlAp6LOVs",
        "outputId": "46dbf7f9-77b7-48e4-93b5-5d352e681524"
      },
      "source": [
        "most_similar_title('leagueoflegends', 10)"
      ],
      "execution_count": 275,
      "outputs": [
        {
          "output_type": "stream",
          "name": "stdout",
          "text": [
            "\n",
            "Title Positive Similarities\n",
            "leagueoflegends 1.000000000000004\n",
            "thegdstudio 0.5934527418509702\n",
            "dota2circlejerk 0.5803161846067915\n",
            "justzenoththings 0.5691151906184531\n",
            "linamasterrace 0.5691151906184531\n",
            "lootmarket 0.5691151906184531\n",
            "islandd 0.5691151906184531\n",
            "ihatedragons 0.5691151906184531\n",
            "onetrueclip 0.5691151906184531\n",
            "navalwarfare 0.5691151906184531\n",
            "boinked 0.5691151906184531\n",
            "\n",
            "Title Negative Similarities\n",
            "leagueoflegends 1.0000000000000002\n",
            "esportdrama 0.5\n",
            "dotameme 0.47140452079103173\n",
            "stopdota2 0.47140452079103173\n",
            "whyihatethefrontpage 0.47140452079103173\n",
            "skrid 0.47140452079103173\n",
            "dota2shitpost 0.47140452079103173\n",
            "letsdrownout 0.47140452079103173\n",
            "spiderrights 0.47140452079103173\n",
            "iamveryranked 0.47140452079103173\n",
            "covane 0.47140452079103173\n",
            "\n",
            "Title Sum Similarities\n",
            "leagueoflegends 0.9999999999999943\n",
            "thegdstudio 0.5807519557354525\n",
            "dota2circlejerk 0.5663173157703152\n",
            "justzenoththings 0.5565752127192172\n",
            "linamasterrace 0.5565752127192172\n",
            "lootmarket 0.5565752127192172\n",
            "islandd 0.5565752127192172\n",
            "ihatedragons 0.5565752127192172\n",
            "onetrueclip 0.5565752127192172\n",
            "navalwarfare 0.5565752127192172\n",
            "boinked 0.5565752127192172\n",
            "\n",
            "Title Absolute Similarities\n",
            "leagueoflegends 1.0000000000000047\n",
            "thegdstudio 0.6039228013637052\n",
            "dota2circlejerk 0.5912839700001891\n",
            "justzenoththings 0.5794958792160068\n",
            "linamasterrace 0.5794958792160068\n",
            "lootmarket 0.5794958792160068\n",
            "islandd 0.5794958792160068\n",
            "ihatedragons 0.5794958792160068\n",
            "onetrueclip 0.5794958792160068\n",
            "navalwarfare 0.5794958792160068\n",
            "boinked 0.5794958792160068\n"
          ]
        }
      ]
    },
    {
      "cell_type": "markdown",
      "metadata": {
        "id": "5mvhGvXIJtdt"
      },
      "source": [
        "For a slightly more specialized subreddit like leagueoflegends, the related subreddits starts to look a bit more esoteric.  I don't know enough about reddit or league of legends or reddit to know exactly how some of these are related, but clearly there is interesting stuff to sift through if needed."
      ]
    },
    {
      "cell_type": "markdown",
      "metadata": {
        "id": "un0oj1Ai6IwU"
      },
      "source": [
        "# Final Points"
      ]
    },
    {
      "cell_type": "markdown",
      "metadata": {
        "id": "494zPb2B6QP1"
      },
      "source": [
        "While we can look at cosine similarities of various derived matrices separately or combined together, there is clearly a lot of overlap between them.  Generally speaking, if a subreddit is referenced a lot in the title, it will likely also be referenced in the text, and any subreddit with a lot of negative references will also generally be popular overall.  The ideal goal would likely be to fine tune a combination of all of these potential similarity metrics to get the most effective combination, but measuring that is only possible on the scale of an actual technology company who are able to test these recommendations over a large active population.  Overall though, this type of graph analysis still falls into the typical issues of cosine similarity and recommender systems, which is that for very unpopular subreddits with few links, it is unlikely that you will recommend them."
      ]
    }
  ]
}